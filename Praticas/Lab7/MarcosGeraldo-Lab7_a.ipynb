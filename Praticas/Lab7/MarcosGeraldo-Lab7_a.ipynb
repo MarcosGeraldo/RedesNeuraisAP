{
  "nbformat": 4,
  "nbformat_minor": 0,
  "metadata": {
    "colab": {
      "name": "Lab7-a.ipynb",
      "provenance": [],
      "collapsed_sections": [],
      "toc_visible": true
    },
    "kernelspec": {
      "name": "python3",
      "display_name": "Python 3"
    }
  },
  "cells": [
    {
      "cell_type": "markdown",
      "metadata": {
        "id": "sGRX270WX6wF"
      },
      "source": [
        "# Lab 7 (a) - PCC177/BCC406\n",
        "\n",
        "## REDES NEURAIS E APRENDIZAGEM EM PROFUNDIDADE\n",
        "\n",
        "## Modelos Generativos\n",
        "\n",
        "### Prof. Eduardo e Prof. Pedro\n",
        "\n",
        "Objetivos:\n",
        "\n",
        "- Predição de série temporal com redes recorrentes (RNN)\n",
        "\n",
        "Data da entrega : XX/YY\n",
        "\n",
        "- Complete o código (marcado com ToDo) e quando requisitado, escreva textos diretamente nos notebooks. Onde tiver *None*, substitua pelo seu código.\n",
        "- Execute todo notebook e salve tudo em um PDF **nomeado** como \"NomeSobrenome-Lab6.pdf\"\n",
        "- Envie o PDF via google [FORM](https://forms.gle/gj36yASmF4Lmrrtx7)\n",
        "\n",
        "Este notebook é baseado em tensorflow e Keras."
      ]
    },
    {
      "cell_type": "markdown",
      "metadata": {
        "id": "-9Lm6lWAlEjq"
      },
      "source": [
        "# Predição de preço de criptomoedas com redes recorrentes"
      ]
    },
    {
      "cell_type": "markdown",
      "source": [
        "Informação sobre o Bitcoin : https://www.kaggle.com/ibadia/bitcoin-101-bitcoins-and-detailed-insights\n",
        "\n",
        "\n",
        "O valor de uma criptomoeda, assim como um ativo funanceiro do mercado de ações, pode ser configurado com uma série temporal. Aqui, consideraremos o valor ponderado do preço diário do Bitcoin para constuir nossa série. O objetivo deste estudo é predizer o próximo valor, baseado nos últimos valores da criptomoeda. Para tal, usaremos de redes recorrentes, pois as mesmas tem memória, o que é importante quando se trata de dados sequenciais.\n"
      ],
      "metadata": {
        "id": "U4ihQlYbukjn"
      }
    },
    {
      "cell_type": "markdown",
      "source": [
        "## Carregando os pacotes"
      ],
      "metadata": {
        "id": "CyeW-ERluorv"
      }
    },
    {
      "cell_type": "code",
      "metadata": {
        "id": "mmJeZzrSk2_8",
        "colab": {
          "base_uri": "https://localhost:8080/",
          "height": 17
        },
        "outputId": "70fed92c-dd97-46c1-dd41-4b30b8810a47"
      },
      "source": [
        "# Importa as bibliotecas necessárias\n",
        "from math import sqrt\n",
        "from numpy import concatenate\n",
        "from matplotlib import pyplot\n",
        "import pandas as pd\n",
        "from datetime import datetime\n",
        "from sklearn.preprocessing import MinMaxScaler\n",
        "from sklearn.preprocessing import LabelEncoder\n",
        "from sklearn.metrics import mean_squared_error\n",
        "import tensorflow as tf\n",
        "from tensorflow.keras.models import Sequential\n",
        "from tensorflow.keras.layers import Dense\n",
        "from tensorflow.keras.layers import LSTM\n",
        "import plotly.offline as py\n",
        "import plotly.graph_objs as go\n",
        "import numpy as np\n",
        "import seaborn as sns\n",
        "py.init_notebook_mode(connected=True)\n",
        "%matplotlib inline"
      ],
      "execution_count": 1,
      "outputs": [
        {
          "output_type": "display_data",
          "data": {
            "text/html": [
              "        <script type=\"text/javascript\">\n",
              "        window.PlotlyConfig = {MathJaxConfig: 'local'};\n",
              "        if (window.MathJax) {MathJax.Hub.Config({SVG: {font: \"STIX-Web\"}});}\n",
              "        if (typeof require !== 'undefined') {\n",
              "        require.undef(\"plotly\");\n",
              "        requirejs.config({\n",
              "            paths: {\n",
              "                'plotly': ['https://cdn.plot.ly/plotly-2.8.3.min']\n",
              "            }\n",
              "        });\n",
              "        require(['plotly'], function(Plotly) {\n",
              "            window._Plotly = Plotly;\n",
              "        });\n",
              "        }\n",
              "        </script>\n",
              "        "
            ]
          },
          "metadata": {}
        }
      ]
    },
    {
      "cell_type": "markdown",
      "metadata": {
        "id": "vj89ltEC4w4y"
      },
      "source": [
        "Vamos usar o pacote ***quandl*** para baixar diretamente dados fornecidos por uma corretora de criptomoedas (Kraken)."
      ]
    },
    {
      "cell_type": "code",
      "metadata": {
        "id": "KO9HEM5glk1x",
        "colab": {
          "base_uri": "https://localhost:8080/",
          "height": 0
        },
        "outputId": "bb05f954-e2df-42f9-a4e8-69210ce094a1"
      },
      "source": [
        "!pip install quandl\n"
      ],
      "execution_count": 2,
      "outputs": [
        {
          "output_type": "stream",
          "name": "stdout",
          "text": [
            "Looking in indexes: https://pypi.org/simple, https://us-python.pkg.dev/colab-wheels/public/simple/\n",
            "Collecting quandl\n",
            "  Downloading Quandl-3.7.0-py2.py3-none-any.whl (26 kB)\n",
            "Requirement already satisfied: pandas>=0.14 in /usr/local/lib/python3.7/dist-packages (from quandl) (1.3.5)\n",
            "Collecting inflection>=0.3.1\n",
            "  Downloading inflection-0.5.1-py2.py3-none-any.whl (9.5 kB)\n",
            "Requirement already satisfied: numpy>=1.8 in /usr/local/lib/python3.7/dist-packages (from quandl) (1.21.6)\n",
            "Requirement already satisfied: more-itertools in /usr/local/lib/python3.7/dist-packages (from quandl) (8.13.0)\n",
            "Requirement already satisfied: six in /usr/local/lib/python3.7/dist-packages (from quandl) (1.15.0)\n",
            "Requirement already satisfied: requests>=2.7.0 in /usr/local/lib/python3.7/dist-packages (from quandl) (2.23.0)\n",
            "Requirement already satisfied: python-dateutil in /usr/local/lib/python3.7/dist-packages (from quandl) (2.8.2)\n",
            "Requirement already satisfied: pytz>=2017.3 in /usr/local/lib/python3.7/dist-packages (from pandas>=0.14->quandl) (2022.1)\n",
            "Requirement already satisfied: certifi>=2017.4.17 in /usr/local/lib/python3.7/dist-packages (from requests>=2.7.0->quandl) (2022.5.18.1)\n",
            "Requirement already satisfied: urllib3!=1.25.0,!=1.25.1,<1.26,>=1.21.1 in /usr/local/lib/python3.7/dist-packages (from requests>=2.7.0->quandl) (1.24.3)\n",
            "Requirement already satisfied: chardet<4,>=3.0.2 in /usr/local/lib/python3.7/dist-packages (from requests>=2.7.0->quandl) (3.0.4)\n",
            "Requirement already satisfied: idna<3,>=2.5 in /usr/local/lib/python3.7/dist-packages (from requests>=2.7.0->quandl) (2.10)\n",
            "Installing collected packages: inflection, quandl\n",
            "Successfully installed inflection-0.5.1 quandl-3.7.0\n"
          ]
        }
      ]
    },
    {
      "cell_type": "markdown",
      "source": [
        "## Carregando os dados"
      ],
      "metadata": {
        "id": "rxviEuk7uv93"
      }
    },
    {
      "cell_type": "code",
      "metadata": {
        "id": "SP0eJ7_rlXUQ"
      },
      "source": [
        "# baixa os dados da exchange Kraken, até o período atual.\n",
        "import quandl\n",
        "data = quandl.get('BCHARTS/KRAKENUSD', returns='pandas')\n"
      ],
      "execution_count": 3,
      "outputs": []
    },
    {
      "cell_type": "markdown",
      "source": [
        "## Entendendo os dados"
      ],
      "metadata": {
        "id": "7-fzqtDVvQRH"
      }
    },
    {
      "cell_type": "code",
      "metadata": {
        "id": "F6GRZid1lv01",
        "colab": {
          "base_uri": "https://localhost:8080/",
          "height": 238
        },
        "outputId": "8023e859-06fc-4fea-d6a4-24107a44d730"
      },
      "source": [
        "#exibe as primeiras linahs \n",
        "data.head()"
      ],
      "execution_count": 4,
      "outputs": [
        {
          "output_type": "execute_result",
          "data": {
            "text/plain": [
              "                 Open       High        Low      Close  Volume (BTC)  \\\n",
              "Date                                                                   \n",
              "2014-01-07  874.67040  892.06753  810.00000  810.00000     15.622378   \n",
              "2014-01-08  810.00000  899.84281  788.00000  824.98287     19.182756   \n",
              "2014-01-09  825.56345  870.00000  807.42084  841.86934      8.158335   \n",
              "2014-01-10  839.99000  857.34056  817.00000  857.33056      8.024510   \n",
              "2014-01-11  858.20000  918.05471  857.16554  899.84105     18.748285   \n",
              "\n",
              "            Volume (Currency)  Weighted Price  \n",
              "Date                                           \n",
              "2014-01-07       13151.472844      841.835522  \n",
              "2014-01-08       16097.329584      839.156269  \n",
              "2014-01-09        6784.249982      831.572913  \n",
              "2014-01-10        6780.220188      844.938794  \n",
              "2014-01-11       16698.566929      890.671709  "
            ],
            "text/html": [
              "\n",
              "  <div id=\"df-94b8a664-1ac7-42b4-b4c8-c5e3c02dc28b\">\n",
              "    <div class=\"colab-df-container\">\n",
              "      <div>\n",
              "<style scoped>\n",
              "    .dataframe tbody tr th:only-of-type {\n",
              "        vertical-align: middle;\n",
              "    }\n",
              "\n",
              "    .dataframe tbody tr th {\n",
              "        vertical-align: top;\n",
              "    }\n",
              "\n",
              "    .dataframe thead th {\n",
              "        text-align: right;\n",
              "    }\n",
              "</style>\n",
              "<table border=\"1\" class=\"dataframe\">\n",
              "  <thead>\n",
              "    <tr style=\"text-align: right;\">\n",
              "      <th></th>\n",
              "      <th>Open</th>\n",
              "      <th>High</th>\n",
              "      <th>Low</th>\n",
              "      <th>Close</th>\n",
              "      <th>Volume (BTC)</th>\n",
              "      <th>Volume (Currency)</th>\n",
              "      <th>Weighted Price</th>\n",
              "    </tr>\n",
              "    <tr>\n",
              "      <th>Date</th>\n",
              "      <th></th>\n",
              "      <th></th>\n",
              "      <th></th>\n",
              "      <th></th>\n",
              "      <th></th>\n",
              "      <th></th>\n",
              "      <th></th>\n",
              "    </tr>\n",
              "  </thead>\n",
              "  <tbody>\n",
              "    <tr>\n",
              "      <th>2014-01-07</th>\n",
              "      <td>874.67040</td>\n",
              "      <td>892.06753</td>\n",
              "      <td>810.00000</td>\n",
              "      <td>810.00000</td>\n",
              "      <td>15.622378</td>\n",
              "      <td>13151.472844</td>\n",
              "      <td>841.835522</td>\n",
              "    </tr>\n",
              "    <tr>\n",
              "      <th>2014-01-08</th>\n",
              "      <td>810.00000</td>\n",
              "      <td>899.84281</td>\n",
              "      <td>788.00000</td>\n",
              "      <td>824.98287</td>\n",
              "      <td>19.182756</td>\n",
              "      <td>16097.329584</td>\n",
              "      <td>839.156269</td>\n",
              "    </tr>\n",
              "    <tr>\n",
              "      <th>2014-01-09</th>\n",
              "      <td>825.56345</td>\n",
              "      <td>870.00000</td>\n",
              "      <td>807.42084</td>\n",
              "      <td>841.86934</td>\n",
              "      <td>8.158335</td>\n",
              "      <td>6784.249982</td>\n",
              "      <td>831.572913</td>\n",
              "    </tr>\n",
              "    <tr>\n",
              "      <th>2014-01-10</th>\n",
              "      <td>839.99000</td>\n",
              "      <td>857.34056</td>\n",
              "      <td>817.00000</td>\n",
              "      <td>857.33056</td>\n",
              "      <td>8.024510</td>\n",
              "      <td>6780.220188</td>\n",
              "      <td>844.938794</td>\n",
              "    </tr>\n",
              "    <tr>\n",
              "      <th>2014-01-11</th>\n",
              "      <td>858.20000</td>\n",
              "      <td>918.05471</td>\n",
              "      <td>857.16554</td>\n",
              "      <td>899.84105</td>\n",
              "      <td>18.748285</td>\n",
              "      <td>16698.566929</td>\n",
              "      <td>890.671709</td>\n",
              "    </tr>\n",
              "  </tbody>\n",
              "</table>\n",
              "</div>\n",
              "      <button class=\"colab-df-convert\" onclick=\"convertToInteractive('df-94b8a664-1ac7-42b4-b4c8-c5e3c02dc28b')\"\n",
              "              title=\"Convert this dataframe to an interactive table.\"\n",
              "              style=\"display:none;\">\n",
              "        \n",
              "  <svg xmlns=\"http://www.w3.org/2000/svg\" height=\"24px\"viewBox=\"0 0 24 24\"\n",
              "       width=\"24px\">\n",
              "    <path d=\"M0 0h24v24H0V0z\" fill=\"none\"/>\n",
              "    <path d=\"M18.56 5.44l.94 2.06.94-2.06 2.06-.94-2.06-.94-.94-2.06-.94 2.06-2.06.94zm-11 1L8.5 8.5l.94-2.06 2.06-.94-2.06-.94L8.5 2.5l-.94 2.06-2.06.94zm10 10l.94 2.06.94-2.06 2.06-.94-2.06-.94-.94-2.06-.94 2.06-2.06.94z\"/><path d=\"M17.41 7.96l-1.37-1.37c-.4-.4-.92-.59-1.43-.59-.52 0-1.04.2-1.43.59L10.3 9.45l-7.72 7.72c-.78.78-.78 2.05 0 2.83L4 21.41c.39.39.9.59 1.41.59.51 0 1.02-.2 1.41-.59l7.78-7.78 2.81-2.81c.8-.78.8-2.07 0-2.86zM5.41 20L4 18.59l7.72-7.72 1.47 1.35L5.41 20z\"/>\n",
              "  </svg>\n",
              "      </button>\n",
              "      \n",
              "  <style>\n",
              "    .colab-df-container {\n",
              "      display:flex;\n",
              "      flex-wrap:wrap;\n",
              "      gap: 12px;\n",
              "    }\n",
              "\n",
              "    .colab-df-convert {\n",
              "      background-color: #E8F0FE;\n",
              "      border: none;\n",
              "      border-radius: 50%;\n",
              "      cursor: pointer;\n",
              "      display: none;\n",
              "      fill: #1967D2;\n",
              "      height: 32px;\n",
              "      padding: 0 0 0 0;\n",
              "      width: 32px;\n",
              "    }\n",
              "\n",
              "    .colab-df-convert:hover {\n",
              "      background-color: #E2EBFA;\n",
              "      box-shadow: 0px 1px 2px rgba(60, 64, 67, 0.3), 0px 1px 3px 1px rgba(60, 64, 67, 0.15);\n",
              "      fill: #174EA6;\n",
              "    }\n",
              "\n",
              "    [theme=dark] .colab-df-convert {\n",
              "      background-color: #3B4455;\n",
              "      fill: #D2E3FC;\n",
              "    }\n",
              "\n",
              "    [theme=dark] .colab-df-convert:hover {\n",
              "      background-color: #434B5C;\n",
              "      box-shadow: 0px 1px 3px 1px rgba(0, 0, 0, 0.15);\n",
              "      filter: drop-shadow(0px 1px 2px rgba(0, 0, 0, 0.3));\n",
              "      fill: #FFFFFF;\n",
              "    }\n",
              "  </style>\n",
              "\n",
              "      <script>\n",
              "        const buttonEl =\n",
              "          document.querySelector('#df-94b8a664-1ac7-42b4-b4c8-c5e3c02dc28b button.colab-df-convert');\n",
              "        buttonEl.style.display =\n",
              "          google.colab.kernel.accessAllowed ? 'block' : 'none';\n",
              "\n",
              "        async function convertToInteractive(key) {\n",
              "          const element = document.querySelector('#df-94b8a664-1ac7-42b4-b4c8-c5e3c02dc28b');\n",
              "          const dataTable =\n",
              "            await google.colab.kernel.invokeFunction('convertToInteractive',\n",
              "                                                     [key], {});\n",
              "          if (!dataTable) return;\n",
              "\n",
              "          const docLinkHtml = 'Like what you see? Visit the ' +\n",
              "            '<a target=\"_blank\" href=https://colab.research.google.com/notebooks/data_table.ipynb>data table notebook</a>'\n",
              "            + ' to learn more about interactive tables.';\n",
              "          element.innerHTML = '';\n",
              "          dataTable['output_type'] = 'display_data';\n",
              "          await google.colab.output.renderOutput(dataTable, element);\n",
              "          const docLink = document.createElement('div');\n",
              "          docLink.innerHTML = docLinkHtml;\n",
              "          element.appendChild(docLink);\n",
              "        }\n",
              "      </script>\n",
              "    </div>\n",
              "  </div>\n",
              "  "
            ]
          },
          "metadata": {},
          "execution_count": 4
        }
      ]
    },
    {
      "cell_type": "code",
      "metadata": {
        "id": "ny91LoLNl-lu",
        "colab": {
          "base_uri": "https://localhost:8080/",
          "height": 0
        },
        "outputId": "3f51f3a1-be77-4957-d8b9-be2a651d66f9"
      },
      "source": [
        "data.info()"
      ],
      "execution_count": 5,
      "outputs": [
        {
          "output_type": "stream",
          "name": "stdout",
          "text": [
            "<class 'pandas.core.frame.DataFrame'>\n",
            "DatetimeIndex: 2713 entries, 2014-01-07 to 2021-06-20\n",
            "Data columns (total 7 columns):\n",
            " #   Column             Non-Null Count  Dtype  \n",
            "---  ------             --------------  -----  \n",
            " 0   Open               2713 non-null   float64\n",
            " 1   High               2713 non-null   float64\n",
            " 2   Low                2713 non-null   float64\n",
            " 3   Close              2713 non-null   float64\n",
            " 4   Volume (BTC)       2713 non-null   float64\n",
            " 5   Volume (Currency)  2713 non-null   float64\n",
            " 6   Weighted Price     2713 non-null   float64\n",
            "dtypes: float64(7)\n",
            "memory usage: 169.6 KB\n"
          ]
        }
      ]
    },
    {
      "cell_type": "code",
      "metadata": {
        "id": "Hsuy1Q2NmCOG",
        "colab": {
          "base_uri": "https://localhost:8080/",
          "height": 238
        },
        "outputId": "477f6cb1-cd92-4ce5-fb3e-52a76f3bce63"
      },
      "source": [
        "# verifica os últimos dados. Repare na data. Deve ter dados atuais (Jun / 2021).\n",
        "data.tail()"
      ],
      "execution_count": 6,
      "outputs": [
        {
          "output_type": "execute_result",
          "data": {
            "text/plain": [
              "               Open     High      Low    Close  Volume (BTC)  \\\n",
              "Date                                                           \n",
              "2021-06-16  40167.3  40493.0  38120.0  38337.1   6487.206888   \n",
              "2021-06-17  38337.1  39561.4  37405.0  38078.2   6003.220618   \n",
              "2021-06-18  38078.2  38193.1  35126.0  35824.0   6558.468890   \n",
              "2021-06-19  35824.0  36450.0  34901.0  35490.5   4485.076656   \n",
              "2021-06-20  35484.2  36112.2  33370.0  35668.7   6229.513564   \n",
              "\n",
              "            Volume (Currency)  Weighted Price  \n",
              "Date                                           \n",
              "2021-06-16       2.539206e+08    39141.737747  \n",
              "2021-06-17       2.307246e+08    38433.468618  \n",
              "2021-06-18       2.409217e+08    36734.445103  \n",
              "2021-06-19       1.603145e+08    35743.971502  \n",
              "2021-06-20       2.168125e+08    34804.086189  "
            ],
            "text/html": [
              "\n",
              "  <div id=\"df-68ffc768-b344-49c1-9bb0-c328579085f6\">\n",
              "    <div class=\"colab-df-container\">\n",
              "      <div>\n",
              "<style scoped>\n",
              "    .dataframe tbody tr th:only-of-type {\n",
              "        vertical-align: middle;\n",
              "    }\n",
              "\n",
              "    .dataframe tbody tr th {\n",
              "        vertical-align: top;\n",
              "    }\n",
              "\n",
              "    .dataframe thead th {\n",
              "        text-align: right;\n",
              "    }\n",
              "</style>\n",
              "<table border=\"1\" class=\"dataframe\">\n",
              "  <thead>\n",
              "    <tr style=\"text-align: right;\">\n",
              "      <th></th>\n",
              "      <th>Open</th>\n",
              "      <th>High</th>\n",
              "      <th>Low</th>\n",
              "      <th>Close</th>\n",
              "      <th>Volume (BTC)</th>\n",
              "      <th>Volume (Currency)</th>\n",
              "      <th>Weighted Price</th>\n",
              "    </tr>\n",
              "    <tr>\n",
              "      <th>Date</th>\n",
              "      <th></th>\n",
              "      <th></th>\n",
              "      <th></th>\n",
              "      <th></th>\n",
              "      <th></th>\n",
              "      <th></th>\n",
              "      <th></th>\n",
              "    </tr>\n",
              "  </thead>\n",
              "  <tbody>\n",
              "    <tr>\n",
              "      <th>2021-06-16</th>\n",
              "      <td>40167.3</td>\n",
              "      <td>40493.0</td>\n",
              "      <td>38120.0</td>\n",
              "      <td>38337.1</td>\n",
              "      <td>6487.206888</td>\n",
              "      <td>2.539206e+08</td>\n",
              "      <td>39141.737747</td>\n",
              "    </tr>\n",
              "    <tr>\n",
              "      <th>2021-06-17</th>\n",
              "      <td>38337.1</td>\n",
              "      <td>39561.4</td>\n",
              "      <td>37405.0</td>\n",
              "      <td>38078.2</td>\n",
              "      <td>6003.220618</td>\n",
              "      <td>2.307246e+08</td>\n",
              "      <td>38433.468618</td>\n",
              "    </tr>\n",
              "    <tr>\n",
              "      <th>2021-06-18</th>\n",
              "      <td>38078.2</td>\n",
              "      <td>38193.1</td>\n",
              "      <td>35126.0</td>\n",
              "      <td>35824.0</td>\n",
              "      <td>6558.468890</td>\n",
              "      <td>2.409217e+08</td>\n",
              "      <td>36734.445103</td>\n",
              "    </tr>\n",
              "    <tr>\n",
              "      <th>2021-06-19</th>\n",
              "      <td>35824.0</td>\n",
              "      <td>36450.0</td>\n",
              "      <td>34901.0</td>\n",
              "      <td>35490.5</td>\n",
              "      <td>4485.076656</td>\n",
              "      <td>1.603145e+08</td>\n",
              "      <td>35743.971502</td>\n",
              "    </tr>\n",
              "    <tr>\n",
              "      <th>2021-06-20</th>\n",
              "      <td>35484.2</td>\n",
              "      <td>36112.2</td>\n",
              "      <td>33370.0</td>\n",
              "      <td>35668.7</td>\n",
              "      <td>6229.513564</td>\n",
              "      <td>2.168125e+08</td>\n",
              "      <td>34804.086189</td>\n",
              "    </tr>\n",
              "  </tbody>\n",
              "</table>\n",
              "</div>\n",
              "      <button class=\"colab-df-convert\" onclick=\"convertToInteractive('df-68ffc768-b344-49c1-9bb0-c328579085f6')\"\n",
              "              title=\"Convert this dataframe to an interactive table.\"\n",
              "              style=\"display:none;\">\n",
              "        \n",
              "  <svg xmlns=\"http://www.w3.org/2000/svg\" height=\"24px\"viewBox=\"0 0 24 24\"\n",
              "       width=\"24px\">\n",
              "    <path d=\"M0 0h24v24H0V0z\" fill=\"none\"/>\n",
              "    <path d=\"M18.56 5.44l.94 2.06.94-2.06 2.06-.94-2.06-.94-.94-2.06-.94 2.06-2.06.94zm-11 1L8.5 8.5l.94-2.06 2.06-.94-2.06-.94L8.5 2.5l-.94 2.06-2.06.94zm10 10l.94 2.06.94-2.06 2.06-.94-2.06-.94-.94-2.06-.94 2.06-2.06.94z\"/><path d=\"M17.41 7.96l-1.37-1.37c-.4-.4-.92-.59-1.43-.59-.52 0-1.04.2-1.43.59L10.3 9.45l-7.72 7.72c-.78.78-.78 2.05 0 2.83L4 21.41c.39.39.9.59 1.41.59.51 0 1.02-.2 1.41-.59l7.78-7.78 2.81-2.81c.8-.78.8-2.07 0-2.86zM5.41 20L4 18.59l7.72-7.72 1.47 1.35L5.41 20z\"/>\n",
              "  </svg>\n",
              "      </button>\n",
              "      \n",
              "  <style>\n",
              "    .colab-df-container {\n",
              "      display:flex;\n",
              "      flex-wrap:wrap;\n",
              "      gap: 12px;\n",
              "    }\n",
              "\n",
              "    .colab-df-convert {\n",
              "      background-color: #E8F0FE;\n",
              "      border: none;\n",
              "      border-radius: 50%;\n",
              "      cursor: pointer;\n",
              "      display: none;\n",
              "      fill: #1967D2;\n",
              "      height: 32px;\n",
              "      padding: 0 0 0 0;\n",
              "      width: 32px;\n",
              "    }\n",
              "\n",
              "    .colab-df-convert:hover {\n",
              "      background-color: #E2EBFA;\n",
              "      box-shadow: 0px 1px 2px rgba(60, 64, 67, 0.3), 0px 1px 3px 1px rgba(60, 64, 67, 0.15);\n",
              "      fill: #174EA6;\n",
              "    }\n",
              "\n",
              "    [theme=dark] .colab-df-convert {\n",
              "      background-color: #3B4455;\n",
              "      fill: #D2E3FC;\n",
              "    }\n",
              "\n",
              "    [theme=dark] .colab-df-convert:hover {\n",
              "      background-color: #434B5C;\n",
              "      box-shadow: 0px 1px 3px 1px rgba(0, 0, 0, 0.15);\n",
              "      filter: drop-shadow(0px 1px 2px rgba(0, 0, 0, 0.3));\n",
              "      fill: #FFFFFF;\n",
              "    }\n",
              "  </style>\n",
              "\n",
              "      <script>\n",
              "        const buttonEl =\n",
              "          document.querySelector('#df-68ffc768-b344-49c1-9bb0-c328579085f6 button.colab-df-convert');\n",
              "        buttonEl.style.display =\n",
              "          google.colab.kernel.accessAllowed ? 'block' : 'none';\n",
              "\n",
              "        async function convertToInteractive(key) {\n",
              "          const element = document.querySelector('#df-68ffc768-b344-49c1-9bb0-c328579085f6');\n",
              "          const dataTable =\n",
              "            await google.colab.kernel.invokeFunction('convertToInteractive',\n",
              "                                                     [key], {});\n",
              "          if (!dataTable) return;\n",
              "\n",
              "          const docLinkHtml = 'Like what you see? Visit the ' +\n",
              "            '<a target=\"_blank\" href=https://colab.research.google.com/notebooks/data_table.ipynb>data table notebook</a>'\n",
              "            + ' to learn more about interactive tables.';\n",
              "          element.innerHTML = '';\n",
              "          dataTable['output_type'] = 'display_data';\n",
              "          await google.colab.output.renderOutput(dataTable, element);\n",
              "          const docLink = document.createElement('div');\n",
              "          docLink.innerHTML = docLinkHtml;\n",
              "          element.appendChild(docLink);\n",
              "        }\n",
              "      </script>\n",
              "    </div>\n",
              "  </div>\n",
              "  "
            ]
          },
          "metadata": {},
          "execution_count": 6
        }
      ]
    },
    {
      "cell_type": "markdown",
      "metadata": {
        "id": "NsHTe0UQ4_cF"
      },
      "source": [
        "Repare que temos dados de abertura do pregão, fechamento, valor mais alto, valor mais baixo, volume diário do bitcoin e de todas as criptomoedas combinadas. E também, temos os preço ponderado pelos valores de compra/venda de um período, que em nosso caso é diário. Para facilitar, vamos usar o valor ponderado."
      ]
    },
    {
      "cell_type": "markdown",
      "source": [
        "## Plotando os dados"
      ],
      "metadata": {
        "id": "GDPzKSGYvgJX"
      }
    },
    {
      "cell_type": "code",
      "metadata": {
        "id": "oxnUuUj9mP-9",
        "colab": {
          "base_uri": "https://localhost:8080/",
          "height": 282
        },
        "outputId": "9614f509-1489-4912-eadc-1c71e19bd836"
      },
      "source": [
        "# imprima os dados\n",
        "pyplot.plot(data['Weighted Price'])"
      ],
      "execution_count": 7,
      "outputs": [
        {
          "output_type": "execute_result",
          "data": {
            "text/plain": [
              "[<matplotlib.lines.Line2D at 0x7f7c098801d0>]"
            ]
          },
          "metadata": {},
          "execution_count": 7
        },
        {
          "output_type": "display_data",
          "data": {
            "text/plain": [
              "<Figure size 432x288 with 1 Axes>"
            ],
            "image/png": "[encoded data removed]"
          },
          "metadata": {
            "needs_background": "light"
          }
        }
      ]
    },
    {
      "cell_type": "markdown",
      "source": [
        "## Pré-processamento dos dados"
      ],
      "metadata": {
        "id": "uPOHWiC7vsKW"
      }
    },
    {
      "cell_type": "code",
      "metadata": {
        "id": "HiEzfI_Sm3Qu"
      },
      "source": [
        "#existem alguns pontos com valor zero (outliers), vamos trocar por NaN e depois chamar um método para preencher os valores vazios\n",
        "data['Weighted Price'].replace(0, np.nan, inplace=True)\n",
        "data['Weighted Price'].fillna(method='ffill', inplace=True)"
      ],
      "execution_count": 8,
      "outputs": []
    },
    {
      "cell_type": "code",
      "metadata": {
        "id": "nru4tq6lnFM1",
        "colab": {
          "base_uri": "https://localhost:8080/",
          "height": 282
        },
        "outputId": "08829d89-bc6e-4991-bd86-27c5e2af2845"
      },
      "source": [
        "# imprima novamente e observe que não existe mais estes outliers.\n",
        "pyplot.plot(data['Weighted Price'])"
      ],
      "execution_count": 9,
      "outputs": [
        {
          "output_type": "execute_result",
          "data": {
            "text/plain": [
              "[<matplotlib.lines.Line2D at 0x7f7c097fd690>]"
            ]
          },
          "metadata": {},
          "execution_count": 9
        },
        {
          "output_type": "display_data",
          "data": {
            "text/plain": [
              "<Figure size 432x288 with 1 Axes>"
            ],
            "image/png": "[encoded data removed]"
          },
          "metadata": {
            "needs_background": "light"
          }
        }
      ]
    },
    {
      "cell_type": "code",
      "metadata": {
        "id": "d1SgYuOAnXrB"
      },
      "source": [
        "# vamos usar o preço ponderado como entrada para nossa rede recorrente\n",
        "# como já vimos, eh sempre bom normalizar os dados para ajudar na convergência do treinamento\n",
        "# Normaliza na faixa entre [0 e 1]\n",
        "from sklearn.preprocessing import MinMaxScaler\n",
        "values = data['Weighted Price'].values.reshape(-1,1)\n",
        "values = values.astype('float32')\n",
        "scaler = MinMaxScaler(feature_range=(0, 1))\n",
        "scaled = scaler.fit_transform(values)"
      ],
      "execution_count": 10,
      "outputs": []
    },
    {
      "cell_type": "code",
      "metadata": {
        "id": "yt0j4pWMnpxs",
        "colab": {
          "base_uri": "https://localhost:8080/",
          "height": 0
        },
        "outputId": "7e0a2598-e086-4e16-fb95-e86f712adbc4"
      },
      "source": [
        "# vamos deixar 70% para treino e 30% para teste. Observe que temos mais de 6 anos de dados.\n",
        "train_size = int(len(scaled) * 0.7)\n",
        "test_size = len(scaled) - train_size\n",
        "train, test = scaled[0:train_size,:], scaled[train_size:len(scaled),:]\n",
        "print(len(train), len(test))"
      ],
      "execution_count": 11,
      "outputs": [
        {
          "output_type": "stream",
          "name": "stdout",
          "text": [
            "1899 814\n"
          ]
        }
      ]
    },
    {
      "cell_type": "markdown",
      "metadata": {
        "id": "qIonwXxV5__I"
      },
      "source": [
        "Vamos considerar uma janela de um único dia para efetuar a predição. Para isso, use a função create_dataset(..) e deixe o parâmetro look_back=1. O parâmetro look_back controla a quantidade de dados que vai fazer parte da janela de entrada para a rede. Estude e entenda o que a função faz."
      ]
    },
    {
      "cell_type": "code",
      "metadata": {
        "id": "uQup1apKoPHF"
      },
      "source": [
        "#função para criar os conjuntos de dados de treino\n",
        "def create_dataset(dataset, look_back=1):\n",
        "    dataX, dataY = [], []\n",
        "    for i in range(len(dataset) - look_back):\n",
        "        a = dataset[i:(i + look_back), 0]\n",
        "        dataX.append(a)\n",
        "        dataY.append(dataset[i + look_back, 0])\n",
        "    print(len(dataY))\n",
        "    return np.array(dataX), np.array(dataY)"
      ],
      "execution_count": 12,
      "outputs": []
    },
    {
      "cell_type": "code",
      "metadata": {
        "id": "rqOLaZEAoVOo",
        "colab": {
          "base_uri": "https://localhost:8080/",
          "height": 0
        },
        "outputId": "ad1955b2-48ca-4787-ba20-de43b2173c44"
      },
      "source": [
        "# entra com janela de 1 único valor\n",
        "look_back = 1\n",
        "trainX, trainY = create_dataset(train, look_back)\n",
        "testX, testY = create_dataset(test, look_back)"
      ],
      "execution_count": 13,
      "outputs": [
        {
          "output_type": "stream",
          "name": "stdout",
          "text": [
            "1898\n",
            "813\n"
          ]
        }
      ]
    },
    {
      "cell_type": "code",
      "metadata": {
        "id": "6j4DH9hX8ZTG",
        "colab": {
          "base_uri": "https://localhost:8080/",
          "height": 0
        },
        "outputId": "e7443ea8-a6f3-442d-c422-aa5d3c7bb841"
      },
      "source": [
        "trainX.shape"
      ],
      "execution_count": 14,
      "outputs": [
        {
          "output_type": "execute_result",
          "data": {
            "text/plain": [
              "(1898, 1)"
            ]
          },
          "metadata": {},
          "execution_count": 14
        }
      ]
    },
    {
      "cell_type": "code",
      "metadata": {
        "id": "M4i8wrBq8lHE"
      },
      "source": [
        "# reshape para formato de entrada da rede neural (instancias, 1, 1)\n",
        "trainX = np.reshape(trainX, (trainX.shape[0], 1, trainX.shape[1]))\n",
        "testX = np.reshape(testX, (testX.shape[0], 1, testX.shape[1]))"
      ],
      "execution_count": 15,
      "outputs": []
    },
    {
      "cell_type": "code",
      "metadata": {
        "id": "-ELdyw5GUGW3",
        "colab": {
          "base_uri": "https://localhost:8080/",
          "height": 0
        },
        "outputId": "d89881c5-a594-405a-bb5b-8262dd8b9f8a"
      },
      "source": [
        "trainX.shape"
      ],
      "execution_count": 16,
      "outputs": [
        {
          "output_type": "execute_result",
          "data": {
            "text/plain": [
              "(1898, 1, 1)"
            ]
          },
          "metadata": {},
          "execution_count": 16
        }
      ]
    },
    {
      "cell_type": "markdown",
      "source": [
        "## Projeto de uma rede recorrente"
      ],
      "metadata": {
        "id": "orVRG-Ohv1lu"
      }
    },
    {
      "cell_type": "markdown",
      "metadata": {
        "id": "V2jJPPQ8Tmd8"
      },
      "source": [
        "Projete uma rede recorrente, usando alguma das camadas abaixo:\n",
        "\n",
        "1.   Item da lista\n",
        "2.   Item da lista\n",
        "\n",
        "\n",
        "\n",
        "```\n",
        "  tf.keras.layers.LSTM\n",
        "  tf.keras.layers.GRU\n",
        "  tf.keras.layers.RNN\n",
        "```\n",
        "\n",
        "As camadas recorrentes (LSTM, GRU, RNN) podem ser bidirecionais ou simpels, por exemplo, uma camada LSTM com 32 unidades e bidirecional:\n",
        "\n",
        " ```\n",
        "  tf.keras.layers.Bidirectional(tf.keras.layers.LSTM(32))\n",
        " ```\n",
        "\n",
        "Você também pode usar dropout e camadas densas em seu modelo. \n",
        "\n",
        "Experimente três arquiteturas (rasas e profundas) e pelo menos dois algoritmos de otimização. Documente os resultados em uma tabela e anexe.\n",
        "\n",
        " Por exemplo, você pode usar um modelo raso como o abaixo:\n",
        "\n",
        "```\n",
        " np.random.seed(42)\n",
        " tf.random.set_seed(42)\n",
        "\n",
        "\n",
        " model_1 = Sequential([\n",
        "   LSTM(128,input_shape=[None,1]),\n",
        "   Dense(1)\n",
        " ])\n",
        "```\n",
        "\n",
        "Com uma função de custo **Mean Square Error** e o algoritmo de otimização **ADAM**:\n",
        "\n",
        "```\n",
        " model_1.compile(loss='mse',optimizer = 'adam')\n",
        "```\n",
        "\n",
        "Ou pode usar um modelo profundo, mais complexo como o abaixo:\n",
        "\n",
        "```\n",
        " model = Sequential()\n",
        " model.add(tf.keras.layers.Bidirectional(tf.keras.layers.LSTM(32)))\n",
        " model.add(Dense(units = 64, activation='relu'))\n",
        " model.add(Dropout(dropout_rate))\n",
        " model.add(Dense(units = 1))\n",
        "```\n",
        "\n",
        "O **erro médio quadrático** deste último modelo, com o otimizador **ADAM** e **erro médio quadrático** como função de custo deve resultar em:\n",
        "\n",
        "```\n",
        " Test Root Mean Square Error (RMSE): 380.139\n",
        "```\n",
        "\n",
        "### Observações\n",
        "1. **Seu RMSE pode ser diferente devido aos dados usados.**\n",
        "2. **Use modelos diferentes dos de exemplo!**\n",
        "\n",
        "\n",
        " "
      ]
    },
    {
      "cell_type": "markdown",
      "source": [
        "## ToDo: Projetando os seus modelos (30pt)"
      ],
      "metadata": {
        "id": "2ol8iIAKw-Gm"
      }
    },
    {
      "cell_type": "code",
      "source": [
        "import numpy as np\n",
        "import tensorflow as tf\n",
        "from tensorflow import keras\n",
        "from tensorflow.keras import layers"
      ],
      "metadata": {
        "id": "CHBjnRpeQQe8"
      },
      "execution_count": 17,
      "outputs": []
    },
    {
      "cell_type": "markdown",
      "source": [
        "#### Modelo 1:"
      ],
      "metadata": {
        "id": "ekUaaAJ1xSq3"
      }
    },
    {
      "cell_type": "code",
      "source": [
        "  tf.keras.layers.LSTM\n",
        "  tf.keras.layers.GRU\n",
        "  tf.keras.layers.RNN"
      ],
      "metadata": {
        "colab": {
          "base_uri": "https://localhost:8080/",
          "height": 0
        },
        "id": "1DvpYL-GM2Bw",
        "outputId": "ad9f145b-8e4e-4675-888b-0029cec1bc0d"
      },
      "execution_count": 18,
      "outputs": [
        {
          "output_type": "execute_result",
          "data": {
            "text/plain": [
              "keras.layers.recurrent.RNN"
            ]
          },
          "metadata": {},
          "execution_count": 18
        }
      ]
    },
    {
      "cell_type": "code",
      "source": [
        "tf.keras.layers.Bidirectional(tf.keras.layers.LSTM(32))"
      ],
      "metadata": {
        "colab": {
          "base_uri": "https://localhost:8080/",
          "height": 0
        },
        "id": "RgydbNaANBGU",
        "outputId": "7ba97fa9-b95e-49cf-fda6-f8c88062aeaf"
      },
      "execution_count": 19,
      "outputs": [
        {
          "output_type": "execute_result",
          "data": {
            "text/plain": [
              "<keras.layers.wrappers.Bidirectional at 0x7f7c09244e50>"
            ]
          },
          "metadata": {},
          "execution_count": 19
        }
      ]
    },
    {
      "cell_type": "code",
      "source": [
        " np.random.seed(42)\n",
        " tf.random.set_seed(42)"
      ],
      "metadata": {
        "id": "mFNIodroNA8x"
      },
      "execution_count": 20,
      "outputs": []
    },
    {
      "cell_type": "code",
      "metadata": {
        "id": "4bIBfls08uFR"
      },
      "source": [
        " model_1 = Sequential()\n",
        " model_1.add(tf.keras.layers.Bidirectional(tf.keras.layers.LSTM(32)))\n",
        " model_1.add(Dense(units = 64, activation='relu'))\n",
        " #model_1.add(Dropout(dropout_rate))\n",
        " model_1.add(Dense(units = 1))\n",
        " #model_1.summary()\n"
      ],
      "execution_count": 21,
      "outputs": []
    },
    {
      "cell_type": "code",
      "source": [
        "model_1.compile(loss='mse',optimizer = 'adam')"
      ],
      "metadata": {
        "id": "ZzVmckEgOZrc"
      },
      "execution_count": 22,
      "outputs": []
    },
    {
      "cell_type": "markdown",
      "source": [
        "#### Modelo 2:"
      ],
      "metadata": {
        "id": "rfaWTWAWxW02"
      }
    },
    {
      "cell_type": "code",
      "source": [
        "tf.keras.layers.Bidirectional(tf.keras.layers.GRU(32))"
      ],
      "metadata": {
        "colab": {
          "base_uri": "https://localhost:8080/",
          "height": 0
        },
        "id": "EecGAEVNNciw",
        "outputId": "34ca0ec4-768d-4304-8318-06c31fd0b38e"
      },
      "execution_count": 23,
      "outputs": [
        {
          "output_type": "execute_result",
          "data": {
            "text/plain": [
              "<keras.layers.wrappers.Bidirectional at 0x7f7c09866550>"
            ]
          },
          "metadata": {},
          "execution_count": 23
        }
      ]
    },
    {
      "cell_type": "code",
      "source": [
        "tf.keras.layers.GRU\n",
        "\n",
        "model_2 = keras.Sequential()\n",
        "#model_2.add(layers.Embedding(input_dim=1000, output_dim=64))\n",
        "\n",
        "# The output of GRU will be a 3D tensor of shape (batch_size, timesteps, 256)\n",
        "model_2.add(layers.GRU(64, return_sequences=True))\n",
        "#model_2.add(Dense(units = 64, activation='relu'))\n",
        "# The output of SimpleRNN will be a 2D tensor of shape (batch_size, 128)\n",
        "model_2.add(layers.SimpleRNN(64))\n",
        "\n",
        "model_2.add(Dense(units = 1))\n",
        "\n",
        "#model_2.summary()"
      ],
      "metadata": {
        "id": "l0PVyl3gxdlO"
      },
      "execution_count": 24,
      "outputs": []
    },
    {
      "cell_type": "code",
      "source": [
        "model_2.compile(loss='mse',optimizer = 'adam')"
      ],
      "metadata": {
        "id": "3DXJ2kBoPd8Q"
      },
      "execution_count": 25,
      "outputs": []
    },
    {
      "cell_type": "markdown",
      "source": [
        "#### Modelo 3:"
      ],
      "metadata": {
        "id": "T3sVODIexewO"
      }
    },
    {
      "cell_type": "code",
      "source": [
        "\n",
        "model_3 = keras.Sequential()\n",
        "\n",
        "\n",
        "model_3.add(Dense(units = 64, activation='relu'))\n",
        "\n",
        "model_3.add(layers.SimpleRNN(128))\n",
        "\n",
        "\n",
        "#model_3.add(layers.Dense(10))\n",
        "\n",
        "model_3.add(Dense(units = 1))\n",
        "\n",
        "\n",
        "\n",
        "#model_3.summary()\n"
      ],
      "metadata": {
        "id": "gC2jmiMRxgQo"
      },
      "execution_count": 26,
      "outputs": []
    },
    {
      "cell_type": "code",
      "source": [
        "model_3.compile(loss='mse',optimizer = 'adam')"
      ],
      "metadata": {
        "id": "j-fMFVzZPgiw"
      },
      "execution_count": 27,
      "outputs": []
    },
    {
      "cell_type": "markdown",
      "metadata": {
        "id": "KKrF09JEUB8g"
      },
      "source": [
        "## ToDo: Função de custo (10pt)"
      ]
    },
    {
      "cell_type": "markdown",
      "source": [
        "Como é um problema de regressão, usaremos funções de custo apropriadas. Você pode usar, por exemplo, *Mean Absolute Error* (mae) ou *Mean Squared Error* (mse). "
      ],
      "metadata": {
        "id": "WHljgMFB25G1"
      }
    },
    {
      "cell_type": "markdown",
      "source": [
        "**ToDo:** Estude as funções de custo MAE e MSE. Qual das duas funções você usaria. Justifique sua escolha. Repare que vamos avaliar os modelos pela métrica *Root Mean Square Error* (RMSE)."
      ],
      "metadata": {
        "id": "2lT9nAi31KCW"
      }
    },
    {
      "cell_type": "markdown",
      "source": [
        "## ToDo: Função para treinar o seu modelo (15pt)"
      ],
      "metadata": {
        "id": "DcGIBovf2u_E"
      }
    },
    {
      "cell_type": "code",
      "source": [
        "# Função para treinar o modelo\n",
        "def train_model(model, loss, optimizer, trainX, trainY):\n",
        "  # Compile o modelo : atenção para a função de CUSTO. Abaixo um exemplo de uso da 'mae'\n",
        "  model.compile(loss=loss, optimizer=optimizer)\n",
        "\n",
        "  #treine o modelo\n",
        "  history = model.fit(trainX,trainY,epochs=20)\n",
        "\n",
        "  # plote a curva de custo\n",
        "  pyplot.plot(history.history['loss'], label='train')\n",
        "  #pyplot.plot(history.history['val_loss'], label='test')\n",
        "  pyplot.legend()\n",
        "\n",
        "  pyplot.show()\n",
        "\n"
      ],
      "metadata": {
        "id": "rOiC8R381nLl"
      },
      "execution_count": 28,
      "outputs": []
    },
    {
      "cell_type": "markdown",
      "source": [
        "## Função para avaliar o seu modelo\n"
      ],
      "metadata": {
        "id": "f9e9QELE2xgP"
      }
    },
    {
      "cell_type": "code",
      "source": [
        "# Avaliando o modelo treinado\n",
        "def evaluate_model(model, testX, testY):\n",
        "\n",
        "  # plote as curvas, valor real e valor predito no mesmo gráfico\n",
        "  yhat = model.predict(testX)\n",
        "  pyplot.title('Curva do valor real e valor predito na escala usado no treino')\n",
        "  pyplot.plot(yhat, label='predict')\n",
        "  pyplot.plot(testY, label='true')\n",
        "  pyplot.legend()\n",
        "  pyplot.show()\n",
        "  \n",
        "  # os valores foream normalizados para o treinamento. \n",
        "  # Veja que para fazer sentido, eles devem voltar para a escala original.\n",
        "  # Volta para escala em US dollar :\n",
        "  yhat_inverse = scaler.inverse_transform(yhat.reshape(-1, 1))\n",
        "  testY_inverse = scaler.inverse_transform(testY.reshape(-1, 1))\n",
        "\n",
        "  # calcula o RMSE \n",
        "  rmse = sqrt(mean_squared_error(testY_inverse, yhat_inverse))\n",
        "  print('Test RMSE: %.3f' % rmse)\n",
        "\n",
        "  # valor em US dollar\n",
        "  pyplot.title('Curva do valor real e valor predito em US dollar')\n",
        "  pyplot.plot(yhat_inverse, label='predict')\n",
        "  pyplot.plot(testY_inverse, label='actual', alpha=0.5)\n",
        "  pyplot.legend()\n",
        "  pyplot.show()"
      ],
      "metadata": {
        "id": "OVTye-DH27tf"
      },
      "execution_count": 29,
      "outputs": []
    },
    {
      "cell_type": "markdown",
      "source": [
        "## ToDo: Treinando e avaliando o seu modelo (15pt)"
      ],
      "metadata": {
        "id": "-sKp1tO-4yqr"
      }
    },
    {
      "cell_type": "markdown",
      "source": [
        "### Modelo 1"
      ],
      "metadata": {
        "id": "Xs4AVqKu44ys"
      }
    },
    {
      "cell_type": "code",
      "source": [
        " train_model(model_1,'mae','adam',trainX,trainY)"
      ],
      "metadata": {
        "id": "EIA3M8Sx427s",
        "colab": {
          "base_uri": "https://localhost:8080/",
          "height": 959
        },
        "outputId": "c1fac4ff-1a3d-4df4-b988-ba016b9454cb"
      },
      "execution_count": 30,
      "outputs": [
        {
          "output_type": "stream",
          "name": "stdout",
          "text": [
            "Epoch 1/20\n",
            "60/60 [==============================] - 8s 7ms/step - loss: 0.0198\n",
            "Epoch 2/20\n",
            "60/60 [==============================] - 0s 8ms/step - loss: 0.0043\n",
            "Epoch 3/20\n",
            "60/60 [==============================] - 1s 9ms/step - loss: 0.0020\n",
            "Epoch 4/20\n",
            "60/60 [==============================] - 0s 7ms/step - loss: 0.0020\n",
            "Epoch 5/20\n",
            "60/60 [==============================] - 0s 7ms/step - loss: 0.0018\n",
            "Epoch 6/20\n",
            "60/60 [==============================] - 0s 8ms/step - loss: 0.0020\n",
            "Epoch 7/20\n",
            "60/60 [==============================] - 0s 8ms/step - loss: 0.0024\n",
            "Epoch 8/20\n",
            "60/60 [==============================] - 0s 6ms/step - loss: 0.0017\n",
            "Epoch 9/20\n",
            "60/60 [==============================] - 0s 7ms/step - loss: 0.0022\n",
            "Epoch 10/20\n",
            "60/60 [==============================] - 0s 6ms/step - loss: 0.0024\n",
            "Epoch 11/20\n",
            "60/60 [==============================] - 1s 9ms/step - loss: 0.0018\n",
            "Epoch 12/20\n",
            "60/60 [==============================] - 0s 8ms/step - loss: 0.0021\n",
            "Epoch 13/20\n",
            "60/60 [==============================] - 0s 8ms/step - loss: 0.0018\n",
            "Epoch 14/20\n",
            "60/60 [==============================] - 0s 7ms/step - loss: 0.0024\n",
            "Epoch 15/20\n",
            "60/60 [==============================] - 0s 6ms/step - loss: 0.0019\n",
            "Epoch 16/20\n",
            "60/60 [==============================] - 0s 7ms/step - loss: 0.0016\n",
            "Epoch 17/20\n",
            "60/60 [==============================] - 0s 7ms/step - loss: 0.0018\n",
            "Epoch 18/20\n",
            "60/60 [==============================] - 0s 7ms/step - loss: 0.0020\n",
            "Epoch 19/20\n",
            "60/60 [==============================] - 0s 7ms/step - loss: 0.0026\n",
            "Epoch 20/20\n",
            "60/60 [==============================] - 0s 8ms/step - loss: 0.0019\n"
          ]
        },
        {
          "output_type": "display_data",
          "data": {
            "text/plain": [
              "<Figure size 432x288 with 1 Axes>"
            ],
            "image/png": "[encoded data removed]"
          },
          "metadata": {
            "needs_background": "light"
          }
        }
      ]
    },
    {
      "cell_type": "code",
      "source": [
        "evaluate_model(model_1,testX,testY)"
      ],
      "metadata": {
        "colab": {
          "base_uri": "https://localhost:8080/",
          "height": 562
        },
        "id": "fP2XdwqHUyBN",
        "outputId": "f018c0e0-d1ec-4ab2-e326-47dbc0b22944"
      },
      "execution_count": 31,
      "outputs": [
        {
          "output_type": "display_data",
          "data": {
            "text/plain": [
              "<Figure size 432x288 with 1 Axes>"
            ],
            "image/png": "[encoded data removed]"
          },
          "metadata": {
            "needs_background": "light"
          }
        },
        {
          "output_type": "stream",
          "name": "stdout",
          "text": [
            "Test RMSE: 2571.262\n"
          ]
        },
        {
          "output_type": "display_data",
          "data": {
            "text/plain": [
              "<Figure size 432x288 with 1 Axes>"
            ],
            "image/png": "[encoded data removed]"
          },
          "metadata": {
            "needs_background": "light"
          }
        }
      ]
    },
    {
      "cell_type": "markdown",
      "source": [
        "### Modelo 2"
      ],
      "metadata": {
        "id": "owGlAdSp49vQ"
      }
    },
    {
      "cell_type": "code",
      "source": [
        "\n",
        "train_model(model_2,'mae','adam',trainX,trainY)"
      ],
      "metadata": {
        "id": "4HgiACq949vR",
        "colab": {
          "base_uri": "https://localhost:8080/",
          "height": 959
        },
        "outputId": "16dfbca8-82a8-44f9-c97e-627a02c99436"
      },
      "execution_count": 32,
      "outputs": [
        {
          "output_type": "stream",
          "name": "stdout",
          "text": [
            "Epoch 1/20\n",
            "60/60 [==============================] - 8s 7ms/step - loss: 0.0121\n",
            "Epoch 2/20\n",
            "60/60 [==============================] - 0s 7ms/step - loss: 0.0022\n",
            "Epoch 3/20\n",
            "60/60 [==============================] - 0s 8ms/step - loss: 0.0031\n",
            "Epoch 4/20\n",
            "60/60 [==============================] - 1s 9ms/step - loss: 0.0021\n",
            "Epoch 5/20\n",
            "60/60 [==============================] - 0s 6ms/step - loss: 0.0022\n",
            "Epoch 6/20\n",
            "60/60 [==============================] - 0s 7ms/step - loss: 0.0022\n",
            "Epoch 7/20\n",
            "60/60 [==============================] - 0s 7ms/step - loss: 0.0033\n",
            "Epoch 8/20\n",
            "60/60 [==============================] - 0s 7ms/step - loss: 0.0020\n",
            "Epoch 9/20\n",
            "60/60 [==============================] - 0s 5ms/step - loss: 0.0036\n",
            "Epoch 10/20\n",
            "60/60 [==============================] - 0s 4ms/step - loss: 0.0022\n",
            "Epoch 11/20\n",
            "60/60 [==============================] - 0s 4ms/step - loss: 0.0024\n",
            "Epoch 12/20\n",
            "60/60 [==============================] - 0s 4ms/step - loss: 0.0026\n",
            "Epoch 13/20\n",
            "60/60 [==============================] - 0s 4ms/step - loss: 0.0028\n",
            "Epoch 14/20\n",
            "60/60 [==============================] - 0s 4ms/step - loss: 0.0021\n",
            "Epoch 15/20\n",
            "60/60 [==============================] - 0s 4ms/step - loss: 0.0020\n",
            "Epoch 16/20\n",
            "60/60 [==============================] - 0s 4ms/step - loss: 0.0021\n",
            "Epoch 17/20\n",
            "60/60 [==============================] - 0s 3ms/step - loss: 0.0035\n",
            "Epoch 18/20\n",
            "60/60 [==============================] - 0s 4ms/step - loss: 0.0019\n",
            "Epoch 19/20\n",
            "60/60 [==============================] - 0s 4ms/step - loss: 0.0022\n",
            "Epoch 20/20\n",
            "60/60 [==============================] - 0s 4ms/step - loss: 0.0021\n"
          ]
        },
        {
          "output_type": "display_data",
          "data": {
            "text/plain": [
              "<Figure size 432x288 with 1 Axes>"
            ],
            "image/png": "[encoded data removed]"
          },
          "metadata": {
            "needs_background": "light"
          }
        }
      ]
    },
    {
      "cell_type": "code",
      "source": [
        "evaluate_model(model_2,testX,testY)"
      ],
      "metadata": {
        "colab": {
          "base_uri": "https://localhost:8080/",
          "height": 562
        },
        "id": "INOXhDD2U7iW",
        "outputId": "ec5d2daa-115a-435f-a81b-23dd059660bd"
      },
      "execution_count": 33,
      "outputs": [
        {
          "output_type": "display_data",
          "data": {
            "text/plain": [
              "<Figure size 432x288 with 1 Axes>"
            ],
            "image/png": "[encoded data removed]"
          },
          "metadata": {
            "needs_background": "light"
          }
        },
        {
          "output_type": "stream",
          "name": "stdout",
          "text": [
            "Test RMSE: 1032.817\n"
          ]
        },
        {
          "output_type": "display_data",
          "data": {
            "text/plain": [
              "<Figure size 432x288 with 1 Axes>"
            ],
            "image/png": "[encoded data removed]"
          },
          "metadata": {
            "needs_background": "light"
          }
        }
      ]
    },
    {
      "cell_type": "markdown",
      "source": [
        "### Modelo 3"
      ],
      "metadata": {
        "id": "HyzL1NtW498f"
      }
    },
    {
      "cell_type": "code",
      "source": [
        "\n",
        "train_model(model_3,'mae','adam',trainX,trainY)"
      ],
      "metadata": {
        "id": "HN6bbP89498f",
        "colab": {
          "base_uri": "https://localhost:8080/",
          "height": 959
        },
        "outputId": "b5cf3a8e-80db-466e-fb7d-082e2471fb50"
      },
      "execution_count": 34,
      "outputs": [
        {
          "output_type": "stream",
          "name": "stdout",
          "text": [
            "Epoch 1/20\n",
            "60/60 [==============================] - 1s 3ms/step - loss: 0.0061\n",
            "Epoch 2/20\n",
            "60/60 [==============================] - 0s 3ms/step - loss: 0.0021\n",
            "Epoch 3/20\n",
            "60/60 [==============================] - 0s 3ms/step - loss: 0.0019\n",
            "Epoch 4/20\n",
            "60/60 [==============================] - 0s 3ms/step - loss: 0.0020\n",
            "Epoch 5/20\n",
            "60/60 [==============================] - 0s 3ms/step - loss: 0.0019\n",
            "Epoch 6/20\n",
            "60/60 [==============================] - 0s 3ms/step - loss: 0.0023\n",
            "Epoch 7/20\n",
            "60/60 [==============================] - 0s 3ms/step - loss: 0.0019\n",
            "Epoch 8/20\n",
            "60/60 [==============================] - 0s 3ms/step - loss: 0.0022\n",
            "Epoch 9/20\n",
            "60/60 [==============================] - 0s 3ms/step - loss: 0.0020\n",
            "Epoch 10/20\n",
            "60/60 [==============================] - 0s 3ms/step - loss: 0.0021\n",
            "Epoch 11/20\n",
            "60/60 [==============================] - 0s 3ms/step - loss: 0.0019\n",
            "Epoch 12/20\n",
            "60/60 [==============================] - 0s 3ms/step - loss: 0.0017\n",
            "Epoch 13/20\n",
            "60/60 [==============================] - 0s 2ms/step - loss: 0.0021\n",
            "Epoch 14/20\n",
            "60/60 [==============================] - 0s 3ms/step - loss: 0.0022\n",
            "Epoch 15/20\n",
            "60/60 [==============================] - 0s 3ms/step - loss: 0.0022\n",
            "Epoch 16/20\n",
            "60/60 [==============================] - 0s 3ms/step - loss: 0.0019\n",
            "Epoch 17/20\n",
            "60/60 [==============================] - 0s 3ms/step - loss: 0.0020\n",
            "Epoch 18/20\n",
            "60/60 [==============================] - 0s 3ms/step - loss: 0.0016\n",
            "Epoch 19/20\n",
            "60/60 [==============================] - 0s 3ms/step - loss: 0.0017\n",
            "Epoch 20/20\n",
            "60/60 [==============================] - 0s 2ms/step - loss: 0.0019\n"
          ]
        },
        {
          "output_type": "display_data",
          "data": {
            "text/plain": [
              "<Figure size 432x288 with 1 Axes>"
            ],
            "image/png": "[encoded data removed]"
          },
          "metadata": {
            "needs_background": "light"
          }
        }
      ]
    },
    {
      "cell_type": "code",
      "source": [
        "evaluate_model(model_3,testX,testY)"
      ],
      "metadata": {
        "colab": {
          "base_uri": "https://localhost:8080/",
          "height": 562
        },
        "id": "5Tf7vFLoU_rN",
        "outputId": "67f82e38-92ee-498c-c52a-962fb190cb74"
      },
      "execution_count": 35,
      "outputs": [
        {
          "output_type": "display_data",
          "data": {
            "text/plain": [
              "<Figure size 432x288 with 1 Axes>"
            ],
            "image/png": "[encoded data removed]"
          },
          "metadata": {
            "needs_background": "light"
          }
        },
        {
          "output_type": "stream",
          "name": "stdout",
          "text": [
            "Test RMSE: 1311.949\n"
          ]
        },
        {
          "output_type": "display_data",
          "data": {
            "text/plain": [
              "<Figure size 432x288 with 1 Axes>"
            ],
            "image/png": "[encoded data removed]"
          },
          "metadata": {
            "needs_background": "light"
          }
        }
      ]
    },
    {
      "cell_type": "markdown",
      "source": [
        "## Prevendo o próximo dia"
      ],
      "metadata": {
        "id": "R9jG61U65K_s"
      }
    },
    {
      "cell_type": "code",
      "source": [
        "# https://www.tensorflow.org/tutorials/structured_data/time_series\n",
        "def create_time_steps(length):\n",
        "  time_steps = []\n",
        "  for i in range(-length, 0, 1):\n",
        "    time_steps.append(i)\n",
        "  return time_steps\n",
        "\n",
        "def baseline(history):\n",
        "  return np.mean(history)\n",
        "  \n",
        "def show_plot(plot_data, delta, title):\n",
        "  labels = ['History', 'True Future', 'Model Prediction']\n",
        "  marker = ['.-', 'rx', 'go']\n",
        "  time_steps = create_time_steps(plot_data[0].shape[0])\n",
        "  if delta:\n",
        "    future = delta\n",
        "  else:\n",
        "    future = 0\n",
        "\n",
        "  pyplot.title(title)\n",
        "  for i, x in enumerate(plot_data):\n",
        "    if i:\n",
        "      pyplot.plot(future, plot_data[i], marker[i], markersize=10,\n",
        "               label=labels[i])\n",
        "    else:\n",
        "      pyplot.plot(time_steps, plot_data[i].flatten(), marker[i], label=labels[i])\n",
        "  pyplot.legend()\n",
        "  pyplot.xlim([time_steps[0], (future+5)*2])\n",
        "  pyplot.xlabel('Time-Step')\n",
        "  return pyplot"
      ],
      "metadata": {
        "id": "ojIp8CA95We1"
      },
      "execution_count": 36,
      "outputs": []
    },
    {
      "cell_type": "markdown",
      "source": [
        "### ToDo: Função para predizer o próximo dia (15pt)"
      ],
      "metadata": {
        "id": "bvVi8QDL5oID"
      }
    },
    {
      "cell_type": "code",
      "source": [
        "def predict_next_day(model, testX, testY):\n",
        "  # os valores foream normalizados para o treinamento. \n",
        "  # Veja que para fazer sentido, eles devem voltar para a escala original.\n",
        "  # Volta para escala em US dollar :\n",
        "  yhat_inverse = scaler.inverse_transform(model_1.predict(testX).reshape(-1, 1))\n",
        "  testY_inverse = scaler.inverse_transform(testY.reshape(-1, 1))\n",
        "\n",
        "  # na base de teste, plote até a instância 200 e tente predizer a instância futura: 201\n",
        "  # use a função show_plot\n",
        "  show_plot([testY_inverse[0:200], yhat_inverse[201],\n",
        "             baseline(testY_inverse[201])], 1, 'Predição do dia seguinte')\n",
        "  \n",
        "  print('valor predito do dia 201: ', yhat_inverse[201])\n",
        "  print('Valor real do dia 201: ', testY_inverse[201])"
      ],
      "metadata": {
        "id": "6oMGFBF75mtz"
      },
      "execution_count": 37,
      "outputs": []
    },
    {
      "cell_type": "markdown",
      "source": [
        "#### Modelo 1:"
      ],
      "metadata": {
        "id": "UbYs3xop-KUf"
      }
    },
    {
      "cell_type": "code",
      "metadata": {
        "id": "PkGghzNj-KUg",
        "colab": {
          "base_uri": "https://localhost:8080/",
          "height": 330
        },
        "outputId": "08a9949d-8630-4aaf-adf9-d59b93364e63"
      },
      "source": [
        "\n",
        "predict_next_day(model_1,testX,testY) "
      ],
      "execution_count": 38,
      "outputs": [
        {
          "output_type": "stream",
          "name": "stdout",
          "text": [
            "valor predito do dia 201:  [8380.734]\n",
            "Valor real do dia 201:  [8431.232]\n"
          ]
        },
        {
          "output_type": "display_data",
          "data": {
            "text/plain": [
              "<Figure size 432x288 with 1 Axes>"
            ],
            "image/png": "[encoded data removed]"
          },
          "metadata": {
            "needs_background": "light"
          }
        }
      ]
    },
    {
      "cell_type": "markdown",
      "source": [
        "#### Modelo 2:"
      ],
      "metadata": {
        "id": "C5ymkqxY-OHO"
      }
    },
    {
      "cell_type": "code",
      "metadata": {
        "id": "eQmXz8FP-OHP",
        "colab": {
          "base_uri": "https://localhost:8080/",
          "height": 330
        },
        "outputId": "e6758a2e-866c-4137-99d5-1b8127c0010f"
      },
      "source": [
        "\n",
        "predict_next_day(model_2,testX,testY) "
      ],
      "execution_count": 39,
      "outputs": [
        {
          "output_type": "stream",
          "name": "stdout",
          "text": [
            "valor predito do dia 201:  [8380.734]\n",
            "Valor real do dia 201:  [8431.232]\n"
          ]
        },
        {
          "output_type": "display_data",
          "data": {
            "text/plain": [
              "<Figure size 432x288 with 1 Axes>"
            ],
            "image/png": "[encoded data removed]"
          },
          "metadata": {
            "needs_background": "light"
          }
        }
      ]
    },
    {
      "cell_type": "markdown",
      "source": [
        "#### Modelo 3:"
      ],
      "metadata": {
        "id": "AZgby5Y2-OQ7"
      }
    },
    {
      "cell_type": "code",
      "metadata": {
        "id": "sTdN1OTN-OQ7",
        "colab": {
          "base_uri": "https://localhost:8080/",
          "height": 330
        },
        "outputId": "b477b481-d6ef-4e84-d8e4-03cc3420cd22"
      },
      "source": [
        "\n",
        "predict_next_day(model_3,testX,testY) "
      ],
      "execution_count": 40,
      "outputs": [
        {
          "output_type": "stream",
          "name": "stdout",
          "text": [
            "valor predito do dia 201:  [8380.734]\n",
            "Valor real do dia 201:  [8431.232]\n"
          ]
        },
        {
          "output_type": "display_data",
          "data": {
            "text/plain": [
              "<Figure size 432x288 with 1 Axes>"
            ],
            "image/png": "[encoded data removed]"
          },
          "metadata": {
            "needs_background": "light"
          }
        }
      ]
    },
    {
      "cell_type": "markdown",
      "source": [
        "## ToDo: Resultados (15pt)"
      ],
      "metadata": {
        "id": "pPceIMSSyFc-"
      }
    },
    {
      "cell_type": "markdown",
      "source": [
        "Coloque os valores dos modelos em uma tabela. Em cada coluna, informe qual a função de custo utilizada, qual otimizador e o erro na partição de teste em RMSE."
      ],
      "metadata": {
        "id": "9q2XbR-R6PU2"
      }
    },
    {
      "cell_type": "markdown",
      "source": [
        "```\n",
        "   ------------------------------------------------------\n",
        "   | Modelo   | Função de Custo | Otimizador | RMSE     |\n",
        "   ------------------------------------------------------\n",
        "   | Modelo 1 |    mae          |     adam   | 2571.262 |\n",
        "   | Modelo 2 |    mae          |     adam   | 1032.817 |\n",
        "   | Modelo 3 |    mae          |     adam   | 1311.949 |\n",
        "   ------------------------------------------------------\n",
        "```\n"
      ],
      "metadata": {
        "id": "D5Hxs5nxxBUO"
      }
    }
  ]
}