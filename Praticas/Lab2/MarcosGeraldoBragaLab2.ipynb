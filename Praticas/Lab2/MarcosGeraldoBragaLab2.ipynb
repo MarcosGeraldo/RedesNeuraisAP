{
  "nbformat": 4,
  "nbformat_minor": 0,
  "metadata": {
    "kernelspec": {
      "display_name": "Python 3",
      "language": "python",
      "name": "python3"
    },
    "language_info": {
      "codemirror_mode": {
        "name": "ipython",
        "version": 3
      },
      "file_extension": ".py",
      "mimetype": "text/x-python",
      "name": "python",
      "nbconvert_exporter": "python",
      "pygments_lexer": "ipython3",
      "version": "3.7.3"
    },
    "colab": {
      "name": "Lab2.ipynb",
      "provenance": [],
      "collapsed_sections": []
    }
  },
  "cells": [
    {
      "cell_type": "markdown",
      "metadata": {
        "id": "_fmc_wN3AGda"
      },
      "source": [
        "# Lab 2 - BCC406/PCC177\n",
        "\n",
        "## REDES NEURAIS E APRENDIZAGEM EM PROFUNDIDADE\n",
        "\n",
        "## Regressão logística\n",
        "\n",
        "### Prof. Eduardo e Prof. Pedro\n",
        "\n",
        "Data da entrega : 08/04 \n",
        "\n",
        "- Complete o código (marcado com ToDo) e quando requisitado, escreva textos diretamente nos notebooks. Onde tiver *None*, substitua pelo seu código.\n",
        "- Execute todo notebook e salve tudo em um PDF nomeado como \"NomeSobrenome-Lab0.pdf\"\n",
        "- Envie o PDF via [FORM](https://forms.gle/eoYuj2XkSiNivuQB8)"
      ]
    },
    {
      "cell_type": "markdown",
      "metadata": {
        "id": "bS79o81q0QFW"
      },
      "source": [
        "# Classificador Binário com Regressão Logística\n",
        "\n",
        "Você criará um classificador baseado em regressão logística para reconhecer gatos em imagens. \n",
        "\n",
        "**Dica:**\n",
        "- Evite loops (for / while) em seu código. Isso o tornará mais eficiente.\n",
        "\n",
        "**Notebook para:**\n",
        "- Construir a arquitetura geral de um algoritmo regressão logística, incluindo:\n",
        "     - Inicializando parâmetros\n",
        "     - Cálculo da função de custo e seu gradiente\n",
        "     - Algoritmo de otimização - gradiente descendente\n"
      ]
    },
    {
      "cell_type": "markdown",
      "source": [
        "# 1 - Pacotes #"
      ],
      "metadata": {
        "id": "UwARsjO-IDwW"
      }
    },
    {
      "cell_type": "markdown",
      "metadata": {
        "id": "HeQREM7w0QFc"
      },
      "source": [
        "Primeiro, vamos executar a célula abaixo para importar todos os pacotes que precisaremos.\n",
        "- [numpy](www.numpy.org) é o pacote fundamental para a computação científica com Python.\n",
        "- [h5py](http://www.h5py.org) é um pacote comum para interagir com um conjunto de dados armazenado em um arquivo H5.\n",
        "- [matplotlib](http://matplotlib.org) é uma biblioteca famosa para plotar gráficos em Python.\n",
        "- [PIL](http://www.pythonware.com/products/pil/) e [scipy](https://www.scipy.org/) são usados aqui para carregar as imagens e testar seu modelo final."
      ]
    },
    {
      "cell_type": "code",
      "metadata": {
        "id": "qITscBIv0QFg"
      },
      "source": [
        "import numpy as np\n",
        "import matplotlib.pyplot as plt\n",
        "import h5py\n",
        "import scipy\n",
        "from PIL import Image\n",
        "from scipy import ndimage\n",
        "\n",
        "\n",
        "%matplotlib inline"
      ],
      "execution_count": 1,
      "outputs": []
    },
    {
      "cell_type": "code",
      "metadata": {
        "id": "zIqAK1h5OFMp",
        "colab": {
          "base_uri": "https://localhost:8080/",
          "height": 0
        },
        "outputId": "0a859154-bd43-4ce0-9981-4ce2bc2ceadf"
      },
      "source": [
        "# Você vai precisar fazer o upload dos arquivos no seu drive (faer na pasta raiz) e montá-lo\n",
        "# não se esqueça de ajustar o path para o seu drive\n",
        "from google.colab import drive\n",
        "drive.mount('/content/drive/')"
      ],
      "execution_count": 2,
      "outputs": [
        {
          "output_type": "stream",
          "name": "stdout",
          "text": [
            "Mounted at /content/drive/\n"
          ]
        }
      ]
    },
    {
      "cell_type": "markdown",
      "source": [
        "# 2 - Visão geral do problema #"
      ],
      "metadata": {
        "id": "98F41YcmIWs2"
      }
    },
    {
      "cell_type": "markdown",
      "metadata": {
        "id": "NC0fLRw10QF6"
      },
      "source": [
        "Classificar as imagens com gato ou sem-gato.\n",
        "\n",
        "Conjunto de dados (\"data.h5\") contem:\n",
        "\n",
        "- um conjunto de imagens para treinamento, rotuladas como gato (y = 1) ou sem-gato (y = 0)\n",
        "- um conjunto de imagens de  testes, rotuladas como gato ou sem-gato\n",
        "- cada imagem tem a forma (num_px, num_px, num_ch), em que num_ch é relativos aos canais de cores (RGB) e deve ser fixado em 3. Assim, cada imagem é quadrada (altura = num_px) e (largura = num_px).\n",
        "\n",
        "\n",
        "Carregue os dados executando o seguinte código."
      ]
    },
    {
      "cell_type": "code",
      "metadata": {
        "id": "oGgHug9Z0QF-"
      },
      "source": [
        "# Lendo os dados (gato/não-gato)\n",
        "def load_dataset():\n",
        "\n",
        "  train_dataset = h5py.File('/content/drive/MyDrive/train_catvnoncat.h5', \"r\")\n",
        "  train_set_x_orig = np.array(train_dataset[\"train_set_x\"][:]) # your train set features\n",
        "  train_set_y_orig = np.array(train_dataset[\"train_set_y\"][:]) # your train set labels\n",
        "\n",
        "  test_dataset = h5py.File('/content/drive/MyDrive/test_catvnoncat.h5', \"r\")\n",
        "  test_set_x_orig = np.array(test_dataset[\"test_set_x\"][:]) # your test set features\n",
        "  test_set_y_orig = np.array(test_dataset[\"test_set_y\"][:]) # your test set labels\n",
        "\n",
        "  classes = np.array(test_dataset[\"list_classes\"][:]) # the list of classes\n",
        "  train_set_y_orig = train_set_y_orig.reshape((1, train_set_y_orig.shape[0]))\n",
        "  test_set_y_orig = test_set_y_orig.reshape((1, test_set_y_orig.shape[0]))\n",
        "  \n",
        "  return train_set_x_orig, train_set_y_orig, test_set_x_orig, test_set_y_orig, classes\n"
      ],
      "execution_count": 3,
      "outputs": []
    },
    {
      "cell_type": "code",
      "metadata": {
        "id": "H1Kq3suHcTUd"
      },
      "source": [
        "treino_x_orig, treino_y, teste_x_orig, teste_y, classes = load_dataset()"
      ],
      "execution_count": 4,
      "outputs": []
    },
    {
      "cell_type": "markdown",
      "metadata": {
        "id": "K6L40Zm30QHh"
      },
      "source": [
        "O termo `_orig` no final dos conjuntos de dados (treino e teste) significa que estamos tratando com os dados lidos originalmente. Após o pré-processamento, atribuiremos a outros objetos (treino_x e teste_x). \n",
        "\n",
        "\n",
        "Cada linha de treino_x_orig e teste_x_orig é uma matriz que representa uma imagem. Você pode visualizar um exemplo executando o seguinte código. \n"
      ]
    },
    {
      "cell_type": "code",
      "metadata": {
        "id": "phPZghf60QHi",
        "colab": {
          "base_uri": "https://localhost:8080/",
          "height": 285
        },
        "outputId": "acc04b6b-79b7-41ea-97fc-ca2791c32f6e"
      },
      "source": [
        "# Exemplo\n",
        "index = 12\n",
        "plt.imshow(treino_x_orig[index])\n",
        "print (\"y = \" + str(treino_y[:, index]) + \", it's a '\" + classes[np.squeeze(treino_y[:, index])].decode(\"utf-8\") +  \"' picture.\")"
      ],
      "execution_count": 5,
      "outputs": [
        {
          "output_type": "stream",
          "name": "stdout",
          "text": [
            "y = [0], it's a 'non-cat' picture.\n"
          ]
        },
        {
          "output_type": "display_data",
          "data": {
            "text/plain": [
              "<Figure size 432x288 with 1 Axes>"
            ],
            "image/png": "[encoded data removed]"
          },
          "metadata": {
            "needs_background": "light"
          }
        }
      ]
    },
    {
      "cell_type": "markdown",
      "metadata": {
        "id": "swD_42TE0QIE"
      },
      "source": [
        "**Exercício:** Encontre os valores para: (0,5pt)\n",
        "     \n",
        "\n",
        "\n",
        "\n",
        "\n",
        "\n",
        "*   m_treino (número de exemplos de treinamento)\n",
        "*   m_teste (número de exemplos de teste)\n",
        "* num_px (altura = largura de uma imagem de treinamento)\n",
        "\n",
        "\n",
        "dica: você tems estes valores nas dimensões dos tensores treino_x_orig e treino_y_orig\n",
        "\n",
        "\n"
      ]
    },
    {
      "cell_type": "code",
      "metadata": {
        "id": "_KYgCfB80QIH",
        "colab": {
          "base_uri": "https://localhost:8080/",
          "height": 0
        },
        "outputId": "f3e68071-b135-46ba-93fb-8236d6fe658f"
      },
      "source": [
        "### Início do código ### (≈ 3 linhas)\n",
        "#ToDo : implemente o bloco\n",
        "m_treino = 209 # ToDo\n",
        "m_teste = 50 # ToDo\n",
        "num_px = 64 # ToDo\n",
        "### Fim do código ###\n",
        "\n",
        "print (\"Número de exemplos de treinamento: m_treino = \" + str(m_treino))\n",
        "print (\"Número de exemplos de teste: m_teste = \" + str(m_teste))\n",
        "print (\"Altura/largura de cada imagem: num_px = \" + str(num_px))\n",
        "print (\"Tamanho de cada imagem: (\" + str(num_px) + \", \" + str(num_px) + \", 3)\")\n",
        "print (\"formto de treino_x: \" + str(treino_x_orig.shape))\n",
        "print (\"formto de treiro_y: \" + str(treino_y.shape))\n",
        "print (\"formto de teste_x: \" + str(teste_x_orig.shape))\n",
        "print (\"formto de teste_y: \" + str(teste_y.shape))"
      ],
      "execution_count": 6,
      "outputs": [
        {
          "output_type": "stream",
          "name": "stdout",
          "text": [
            "Número de exemplos de treinamento: m_treino = 209\n",
            "Número de exemplos de teste: m_teste = 50\n",
            "Altura/largura de cada imagem: num_px = 64\n",
            "Tamanho de cada imagem: (64, 64, 3)\n",
            "formto de treino_x: (209, 64, 64, 3)\n",
            "formto de treiro_y: (1, 209)\n",
            "formto de teste_x: (50, 64, 64, 3)\n",
            "formto de teste_y: (1, 50)\n"
          ]
        }
      ]
    },
    {
      "cell_type": "markdown",
      "metadata": {
        "id": "zi-SRAOm0QIZ"
      },
      "source": [
        "**Valores esperados para m_treino, m_teste and num_px**: \n",
        "<table style=\"width:15%\">\n",
        "  <tr>\n",
        "    <td>**m_treino**</td>\n",
        "    <td> 209 </td> \n",
        "  </tr>\n",
        "  \n",
        "  <tr>\n",
        "    <td>**m_teste**</td>\n",
        "    <td> 50 </td> \n",
        "  </tr>\n",
        "  \n",
        "  <tr>\n",
        "    <td>**num_px**</td>\n",
        "    <td> 64 </td> \n",
        "  </tr>\n",
        "  \n",
        "</table>"
      ]
    },
    {
      "cell_type": "markdown",
      "metadata": {
        "id": "ync9Age30QIc"
      },
      "source": [
        "# 3 - Pré-processamento"
      ]
    },
    {
      "cell_type": "markdown",
      "metadata": {
        "id": "kyPNiXaY0QId"
      },
      "source": [
        "## 3.1 - Formatação (0,5pt)\n",
        "Por conveniência, vamos **\"vetorizar\"** as imagens para que elas fiquem nas dimensões: (num_px $ * $ num_px $ * $ 3, 1). Depois disso, nosso conjunto de dados de treinamento (e teste) será uma matriz ndarray(numpy) em que cada coluna representa uma imagem vetorizada. Deve haver m_treino colunas. O memso para o conjunto de teste (m_teste colunas)\n",
        "\n",
        "**Exercício:** Formate os conjuntos de dados de treinamento e teste para que as imagens de tamanho (num_px, num_px, 3) sejam vetores de forma (num_px $ * $ num_px $ * $ 3, 1).\n",
        "\n",
        "dica: ver documentação da função reshape(..)"
      ]
    },
    {
      "cell_type": "code",
      "metadata": {
        "id": "stcCIM3q0QKu",
        "colab": {
          "base_uri": "https://localhost:8080/",
          "height": 0
        },
        "outputId": "0e72dc89-76ff-459d-b04a-5bd15e999e5e"
      },
      "source": [
        "# Formate o conjunto de treinamento e teste \n",
        "\n",
        "### Início do código ### (≈ 2 linhas)\n",
        "#ToDo : implemente o bloco\n",
        "treino_x_vet = np.reshape(treino_x_orig , (m_treino * num_px * num_px * 3, 1)) # ToDo\n",
        "teste_x_vet = np.reshape(teste_x_orig , (m_teste * num_px * num_px * 3, 1)) # ToDo\n",
        "### Fim do código ###\n",
        "\n",
        "print (\"Formato de treino_x_vet: \" + str(treino_x_vet.shape))\n",
        "print (\"Formato de treino_y: \" + str(treino_y.shape))\n",
        "print (\"Formato de teste_x_vet: \" + str(teste_x_vet.shape))\n",
        "print (\"Formato de teste_y: \" + str(teste_y.shape))\n"
      ],
      "execution_count": 7,
      "outputs": [
        {
          "output_type": "stream",
          "name": "stdout",
          "text": [
            "Formato de treino_x_vet: (2568192, 1)\n",
            "Formato de treino_y: (1, 209)\n",
            "Formato de teste_x_vet: (614400, 1)\n",
            "Formato de teste_y: (1, 50)\n"
          ]
        }
      ]
    },
    {
      "cell_type": "markdown",
      "metadata": {
        "id": "4F7KID750QMD"
      },
      "source": [
        "## 3.2 -  Normalização (0,5pt)\n",
        "\n",
        "As imagens do conjunto de dados são repreesentadas por canais (RGB). Os canais vermelho, verde e azul devem ser especificados para cada pixel e, portanto, o valor do pixel é na verdade um vetor de três números que podem variar de 0 a 255.\n",
        "\n",
        "Uma etapa comum de pré-processamento no aprendizado de máquina é centralizar e normalizar seu conjunto de dados, que significa subtrair cada exemplo pela média e dividir pelo desvio padrão de toda a matriz (de dados de treino ou de teste). Porém, para conjuntos de dados de imagens, é mais simples e conveniente e funciona muito bem apenas dividir todas as linhas do conjunto de dados por 255 (o valor máximo).\n",
        "\n",
        "Vamos normalizar o conjunto de dados, dexando os valores dos pixels entre 0 e 1."
      ]
    },
    {
      "cell_type": "code",
      "metadata": {
        "id": "sfKfyTBN0QMJ"
      },
      "source": [
        "# Normaliza os dados\n",
        "\n",
        "#ToDo : implemente o bloco\n",
        "treino_x = treino_x_vet / 255.0 # ToDo\n",
        "teste_x = teste_x_vet / 255.0 # ToDo\n"
      ],
      "execution_count": 8,
      "outputs": []
    },
    {
      "cell_type": "markdown",
      "metadata": {
        "id": "UFc9sSlg0QMw"
      },
      "source": [
        "## 4 - Arquitetura geral do algoritmo de aprendizado ##\n",
        "\n",
        "A figura a seguir explica por que **a regressão logística é realmente uma rede neural muito simples!**\n",
        "\n",
        "![Arq,widht=200](https://drive.google.com/uc?export=view&id=16lfjW5R0BMWrGMLY2j3pRvQ_16ttDJRe)\n",
        "\n",
        "\n",
        "**Expressão matemática do algoritmo**:\n",
        "\n",
        "Para um exemplo $x^{(i)}$:\n",
        "$$z^{(i)} = w^T x^{(i)} + b \\tag{1}$$\n",
        "$$\\hat{y}^{(i)} = a^{(i)} = sigmoid(z^{(i)})\\tag{2}$$ \n",
        "$$ \\mathcal{L}(a^{(i)}, y^{(i)}) =  - y^{(i)}  \\log(a^{(i)}) - (1-y^{(i)} )  \\log(1-a^{(i)})\\tag{3}$$\n",
        "\n",
        "O custo é então calculado somando sobre todos os exemplos do treinamento:\n",
        "$$ J = \\frac{1}{m} \\sum_{i=1}^m \\mathcal{L}(a^{(i)}, y^{(i)})\\tag{6}$$\n",
        "\n",
        "**Etapas principais**:\n",
        "\n",
        "Neste exercício, você executará as seguintes etapas:\n",
        "\n",
        "     - Inicializar os parâmetros do modelo\n",
        "     - Aprender os parâmetros do modelo, minimizando o custo\n",
        "     - Use os parâmetros aprendidos para fazer a predição (no conjunto de testes)\n",
        "     - Analisar os resultados."
      ]
    },
    {
      "cell_type": "markdown",
      "metadata": {
        "id": "EJIrDUYH0QMx"
      },
      "source": [
        "### 4.1 - Funções auxiliares (1pt)\n",
        "\n",
        "**Exercício**: Implemente a função de ativação `sigmoid ()`. Como você viu na figura acima, você precisa calcular  $sigmoid (w^T x + b) = \\frac {1} {1 + e^{- (w^T x + b)}}$ para fazer previsões.\n",
        "\n",
        "dica: você pode usar a função exponencial do numpy (np.exp(-z))"
      ]
    },
    {
      "cell_type": "code",
      "metadata": {
        "id": "ZjGi1Pdl0QM0"
      },
      "source": [
        "# Função de ativação sigmoid\n",
        "\n",
        "def sigmoid(z):\n",
        "    \"\"\"\n",
        "    Calcula a sigmoid de z\n",
        "\n",
        "    entrada:\n",
        "    z -- Um escalar ou um numpy array de qualquer tamanho.\n",
        "\n",
        "    saída:\n",
        "    s -- sigmoid(z)\n",
        "    \"\"\"\n",
        "\n",
        "    ### Início do código ### (≈ 1 linha)\n",
        "    #ToDo : implemente o bloco\n",
        "    s = 1/(1+np.exp(-z)) # ToDo\n",
        "    ### Fim do código ###\n",
        "    \n",
        "    return s"
      ],
      "execution_count": 9,
      "outputs": []
    },
    {
      "cell_type": "code",
      "metadata": {
        "id": "QPYs15Cd0QNz",
        "colab": {
          "base_uri": "https://localhost:8080/",
          "height": 0
        },
        "outputId": "1b530496-ea07-42c8-c6df-4fef0c3a72ad"
      },
      "source": [
        "# Teste\n",
        "print (\"sigmoid([0, 2]) = \" + str(sigmoid(np.array([0,2]))))"
      ],
      "execution_count": 10,
      "outputs": [
        {
          "output_type": "stream",
          "name": "stdout",
          "text": [
            "sigmoid([0, 2]) = [0.5        0.88079708]\n"
          ]
        }
      ]
    },
    {
      "cell_type": "markdown",
      "metadata": {
        "id": "gV_EZK5C0QOJ"
      },
      "source": [
        "**Valor esperado**: \n",
        "\n",
        "<table>\n",
        "  <tr>\n",
        "    <td>**sigmoid([0, 2])**</td>\n",
        "    <td> [ 0.5         0.88079708]</td> \n",
        "  </tr>\n",
        "</table>"
      ]
    },
    {
      "cell_type": "markdown",
      "metadata": {
        "id": "YX6WTK-00QOJ"
      },
      "source": [
        "### 4.2 - Inicializando Parâmetros (1pt)\n",
        "\n",
        "**Exercício:** Implemente a inicialização dos parâmetros w e b. \n",
        "\n",
        "dica: veja função  np.zeros(..)"
      ]
    },
    {
      "cell_type": "code",
      "metadata": {
        "id": "9MUw96l-0QON"
      },
      "source": [
        "# Função: inicializa w e b\n",
        "\n",
        "def inicialize(dim):\n",
        "    \"\"\"\n",
        "    Inicializa um vetor de tamanho (dim, 1) para w and  b = 0.\n",
        "    \n",
        "    Entrada:\n",
        "    dim -- tamanho de w (número de parâmetros)\n",
        "    \n",
        "    Saída:\n",
        "    w -- tamanho (dim, 1)\n",
        "    b -- um escalar (correspondente ao bias)\n",
        "    \"\"\"\n",
        "    \n",
        "    ### Início do código ### (≈ 1 line of code)\n",
        "    #ToDo : implemente o bloco\n",
        "    w = np.zeros((dim,1)) # ToDo\n",
        "    b = 0 # ToDo\n",
        "    ### Fim do código ###\n",
        "\n",
        "    assert(w.shape == (dim, 1))\n",
        "    assert(isinstance(b, float) or isinstance(b, int))\n",
        "    \n",
        "    return w, b"
      ],
      "execution_count": 11,
      "outputs": []
    },
    {
      "cell_type": "code",
      "metadata": {
        "id": "dWl3VGOY0QPG",
        "colab": {
          "base_uri": "https://localhost:8080/",
          "height": 0
        },
        "outputId": "2c61929d-c205-4e51-bcc6-47d1fbcecbcc"
      },
      "source": [
        "# Teste\n",
        "\n",
        "dim = 2\n",
        "w, b = inicialize(dim)\n",
        "print (\"w = \" + str(w))\n",
        "print (\"b = \" + str(b))"
      ],
      "execution_count": 12,
      "outputs": [
        {
          "output_type": "stream",
          "name": "stdout",
          "text": [
            "w = [[0.]\n",
            " [0.]]\n",
            "b = 0\n"
          ]
        }
      ]
    },
    {
      "cell_type": "markdown",
      "metadata": {
        "id": "BDEg5e6g0QQH"
      },
      "source": [
        "**Valores esperados**: \n",
        "\n",
        "\n",
        "<table style=\"width:15%\">\n",
        "    <tr>\n",
        "        <td>  ** w **  </td>\n",
        "        <td> [[ 0.]\n",
        " [ 0.]] </td>\n",
        "    </tr>\n",
        "    <tr>\n",
        "        <td>  ** b **  </td>\n",
        "        <td> 0 </td>\n",
        "    </tr>\n",
        "</table>\n"
      ]
    },
    {
      "cell_type": "markdown",
      "metadata": {
        "id": "AOs7lqMD0QQH"
      },
      "source": [
        "### 4.3 - Forward and Backward propagation (2pt)\n",
        "\n",
        "**Exercício:** Implemente a função `propagacao ()` que calcula a função de custo e seu gradiente.\n",
        "\n",
        "\n",
        "**Forward-Propagation:**\n",
        "- Entrada X\n",
        "- Calcule a ativação $A = \\sigma(w^T X + b) = (a^{(1)}, a^{(2)}, ..., a^{(m-1)}, a^{(m)})$\n",
        "- Calcule a função de custo: $J = -\\frac{1}{m}\\sum_{i=1}^{m}y^{(i)}\\log(a^{(i)})+(1-y^{(i)})\\log(1-a^{(i)})$\n",
        "\n",
        "**Backward-propagation:**\n",
        "\n",
        "Fórmulas do gradiente: \n",
        "\n",
        "$$\\frac{\\partial J}{\\partial w} = \\frac{1}{m}X(A-Y)^T\\tag{7}$$\n",
        "$$\\frac{\\partial J}{\\partial b} = \\frac{1}{m} \\sum_{i=1}^m (a^{(i)}-y^{(i)})\\tag{8}$$"
      ]
    },
    {
      "cell_type": "code",
      "metadata": {
        "id": "8LUlvfa-0QQL"
      },
      "source": [
        "# Forward and Backward propagation\n",
        "\n",
        "def propagacao(w, b, X, Y):\n",
        "    \"\"\"\n",
        "    Implementa a função custo e seus gradientes\n",
        "\n",
        "    Entrada:\n",
        "    w -- pesos, de tamanho (num_px * num_px * 3, 1)\n",
        "    b -- bias, um escalar\n",
        "    X -- dados de treinamentos de tamanho (num_px * num_px * 3, número de exemplos)\n",
        "    Y -- ( 0 se não-gato, 1 se gato) de tamanho (1, número de exemplos)\n",
        "\n",
        "    Saída:\n",
        "    custo -- custo para regressão logística\n",
        "    dw -- gradiente da função loss em relação a w\n",
        "    db -- gradiente da função loss em relação a b\n",
        "    \n",
        "\n",
        "    \"\"\"\n",
        "\n",
        "    #ToDo : implemente a função\n",
        "    Y = np.array(Y) # converte para o tipo ndarray para acessar o .shape do objeto\n",
        "    m = (Y.size) # número de exemplos\n",
        "    # FORWARD PROPAGATION \n",
        "    ### Início do código ### (≈ 4 a 5 linhas)\n",
        "    #ToDo : implemente o bloco\n",
        "    w = np.array(w)\n",
        "    X = np.array(X)\n",
        "    A = sigmoid(np.dot(np.transpose(w),X)+b) # calcula ativação, dica use sua função sigmoid\n",
        "    custo = sum(-1/m *((Y * (np.log(A))) + ( (1 - Y) * (np.log(1-A)))) ) # calcula custo. Dica : use np.log(..)\n",
        "    custo = sum(custo)\n",
        "    ### Fim do código ###\n",
        "    \n",
        "    # BACKWARD PROPAGATION\n",
        "    ### Início do código ### (≈ 2 linhas)\n",
        "    #ToDo : implemente o bloco\n",
        "    dw = (1/m * (np.dot(X, np.transpose(A-Y)) ))  # dica: use np.dot(..) e não esqueça que em algumas operações um dos vetores precisa ser transposto\n",
        "    db = sum(sum(1/m * (A-Y)))\n",
        "    ### Fim do código ###\n",
        "\n",
        "    assert(dw.shape == w.shape)\n",
        "    assert(db.dtype == float)\n",
        "    custo = np.squeeze(custo)\n",
        "    assert(custo.shape == ())\n",
        "    \n",
        "    grads = {\"dw\": dw,\n",
        "             \"db\": db}\n",
        "    \n",
        "    return grads, custo"
      ],
      "execution_count": 13,
      "outputs": []
    },
    {
      "cell_type": "code",
      "metadata": {
        "id": "xXwhADZ20QQo",
        "colab": {
          "base_uri": "https://localhost:8080/",
          "height": 0
        },
        "outputId": "666579e7-6e19-4216-a677-e6354da2295f"
      },
      "source": [
        "# Teste\n",
        "w, b, X, Y = np.array([[1.],[2.]]), 2., np.array([[1.,2.,-1.],[3.,4.,-3.2]]), np.array([[1,0,1]])\n",
        "grads, custo = propagacao(w, b, X, Y)\n",
        "print (\"dw = \" + str(grads[\"dw\"]))\n",
        "print (\"db = \" + str(grads[\"db\"]))\n",
        "print (\"custo = \" + str(custo))"
      ],
      "execution_count": 14,
      "outputs": [
        {
          "output_type": "stream",
          "name": "stdout",
          "text": [
            "dw = [[0.99845601]\n",
            " [2.39507239]]\n",
            "db = 0.001455578136784208\n",
            "custo = 5.8015453193945525\n"
          ]
        }
      ]
    },
    {
      "cell_type": "markdown",
      "metadata": {
        "id": "I1wat9HO0QRc"
      },
      "source": [
        "**Valores esperado**:\n",
        "\n",
        "<table style=\"width:50%\">\n",
        "    <tr>\n",
        "        <td>  ** dw **  </td>\n",
        "      <td> [[ 0.99845601]\n",
        "     [ 2.39507239]]</td>\n",
        "    </tr>\n",
        "    <tr>\n",
        "        <td>  ** db **  </td>\n",
        "        <td> 0.00145557813678 </td>\n",
        "    </tr>\n",
        "    <tr>\n",
        "        <td>  ** custo **  </td>\n",
        "        <td> 5.801545319394553 </td>\n",
        "    </tr>\n",
        "\n",
        "</table>"
      ]
    },
    {
      "cell_type": "markdown",
      "metadata": {
        "id": "udXe6tPv0QRc"
      },
      "source": [
        "### 4.4 - Otimização (2pt)\n",
        "- O processo de atualização dos parâmetros é realizado pelo algoritmo da descida do gradiente.\n",
        "\n",
        "**Exercício:** Atualize $w$ e $b$, minimizando a função de custo $J$. Para um parâmetro $ \\theta $, a regra de atualização é $\\theta = \\theta - \\alpha \\text{ } d\\theta$, em que $\\alpha$ é a taxa de aprendizado."
      ]
    },
    {
      "cell_type": "code",
      "metadata": {
        "id": "Lld3n8hU0QRm"
      },
      "source": [
        "# Algoritmo da descida do gradiente\n",
        "def softmax(x):\n",
        "    \n",
        "    f_x = np.exp(x) / np.sum(np.exp(x))\n",
        "    return f_x\n",
        "\n",
        "def gradiente_descendente(w, b, X, Y, num_iter, learning_rate, print_custo = False):\n",
        "    \"\"\"\n",
        "    Esta função atualiza/otimiza os parâmetros w e b através do algoritmo do graidente\n",
        "    \n",
        "    Entrada:\n",
        "    w -- pesos, de tamanho (num_px * num_px * 3, 1)\n",
        "    b -- bias, um escalar\n",
        "    X -- dados de treinamentos de tamanho (num_px * num_px * 3, número de exemplos)\n",
        "    Y -- ( 0 se não-gato, 1 se gato) de tamanho (1, número de exemplos)\n",
        "    num_iter -- número de interações\n",
        "    learning_rate -- taxa de aprendizegem do algoritmo gradiente descendente\n",
        "    print_custo -- print flag\n",
        "    \n",
        "    Saída:\n",
        "    params -- dictionário contendo os pesos w e bias b\n",
        "    grads -- dictionário contendo os gradientes dos pesos w e bias b com relação a função custo\n",
        "    custos -- lista de todos os custos durante a otimização, será usado para plotar a curva de aprendizado.\n",
        "    \n",
        "    \n",
        "    \"\"\"\n",
        "    \n",
        "    custos = []\n",
        "    \n",
        "    for i in range(num_iter):\n",
        "        \n",
        "        \n",
        "        # Calcula o custo e os gradientes (≈ 1-4 linhas)\n",
        "        ### Início do código ### \n",
        "        #ToDo : implemente o bloco\n",
        "        #grads = np.softmax(custo)\n",
        "        #custo = sigmoid(grads)\n",
        "        #custo = np.dot(np.transpose(w),X)+b\n",
        "        m=np.size(Y)\n",
        "        A = sigmoid(np.dot(np.transpose(w),X)+b)\n",
        "        custo = -1/m * np.sum(((Y * (np.log(A))) + ( (1 - Y) * (np.log(1-A)))))\n",
        "        #print(str(custo))\n",
        "        #custo = sum(custo)\n",
        "        #grads = sigmoid(custo) \n",
        "        #print(str(grads))\n",
        "        # dica: use sua funcao propagacao(..)\n",
        "        ### Fim do código ###\n",
        "        \n",
        "        # Recupera os gradientes do dicionário grads\n",
        "        #ToDo : implemente o bloco\n",
        "        #dw = (sigmoid(grads)*(1-sigmoid(grads)))  # dica: fique atento ao tipo de dados de grads para acessar os índices de \"dw\" e \"db\"\n",
        "        #db = (sigmoid(grads)*(1-sigmoid(grads)))\n",
        "        dw = (1/m * (np.dot(X, np.transpose(A-Y)) ))\n",
        "        db = 1/m * np.sum(A-Y)\n",
        "        #print(str(dw))\n",
        "        \n",
        "        # Atualiza w e b (≈ 2 linhas)\n",
        "        ### Início do código ###\n",
        "        #ToDo : implemente o bloco, lembrando sempre da taxa de aprendizagem (learning_rate)\n",
        "        w -= dw*learning_rate\n",
        "        b -= db*learning_rate\n",
        "        ### Fim do código ###\n",
        "        \n",
        "        # Guarda custos\n",
        "        if i % 100 == 0:\n",
        "            custos.append(custo)\n",
        "        \n",
        "        # Imprime o custo a cada 100 interações\n",
        "        if print_custo and i % 100 == 0:\n",
        "            print (f\"Custo após {i:4d} iterações: {custo:.4f}\")\n",
        "    \n",
        "    params = {\"w\": w,\n",
        "              \"b\": b}\n",
        "    \n",
        "    grads = {\"dw\": dw,\n",
        "             \"db\": db}\n",
        "    \n",
        "    return params, grads, custos"
      ],
      "execution_count": 15,
      "outputs": []
    },
    {
      "cell_type": "code",
      "metadata": {
        "id": "2KxFTjQ20QRx",
        "colab": {
          "base_uri": "https://localhost:8080/",
          "height": 0
        },
        "outputId": "4193a32b-c83c-4289-baa5-2bd156cdd422"
      },
      "source": [
        "# Teste\n",
        "params, grads, custos = gradiente_descendente(w, b, X, Y, num_iter= 100, learning_rate = 0.009, print_custo = False)\n",
        "\n",
        "print (\"w = \" + str(params[\"w\"]))\n",
        "print (\"b = \" + str(params[\"b\"]))\n",
        "print (\"dw = \" + str(grads[\"dw\"]))\n",
        "print (\"db = \" + str(grads[\"db\"]))"
      ],
      "execution_count": 16,
      "outputs": [
        {
          "output_type": "stream",
          "name": "stdout",
          "text": [
            "w = [[0.19033591]\n",
            " [0.12259159]]\n",
            "b = 1.9253598300845747\n",
            "dw = [[0.67752042]\n",
            " [1.41625495]]\n",
            "db = 0.21919450454067657\n"
          ]
        }
      ]
    },
    {
      "cell_type": "markdown",
      "metadata": {
        "id": "AvxVw6Mf0QR-"
      },
      "source": [
        "**Valores esperados**: \n",
        "\n",
        "<table style=\"width:40%\">\n",
        "    <tr>\n",
        "       <td> **w** </td>\n",
        "       <td>[[ 0.19033591] [ 0.12259159]] </td>\n",
        "    </tr>\n",
        "    \n",
        "  <tr>\n",
        "       <td> **b** </td>\n",
        "       <td> 1.92535983008 </td>\n",
        "    </tr>\n",
        "    \n",
        "   <tr>\n",
        "       <td> **dw** </td>\n",
        "       <td> [[ 0.67752042][ 1.41625495]] </td>\n",
        "    </tr>\n",
        "    <tr>\n",
        "       <td> **db** </td>\n",
        "       <td> 0.219194504541 </td>\n",
        "    </tr>\n",
        "\n",
        "</table>"
      ]
    },
    {
      "cell_type": "markdown",
      "metadata": {
        "id": "wHcib8ao0QSH"
      },
      "source": [
        "### 4.5 - Predição (2pt)\n",
        "\n",
        "- Depois do aprendizado dos parâmentros w e b, eles são usados para predizer os rótulos para um conjunto de dados X.\n",
        "\n",
        "**Exercício:**. Implemente a função `predicao ()`:\n",
        "\n",
        "1. Calcule $ \\hat{Y} = A = \\sigma(w^T X + b) $\n",
        "\n",
        "2. Converta $ \\hat{Y}$ em 0 (se ativação <= 0,5) ou 1 (se ativação > 0,5)."
      ]
    },
    {
      "cell_type": "code",
      "metadata": {
        "id": "_XrDvRum0QSc"
      },
      "source": [
        "# GRADED FUNCTION: predição\n",
        "\n",
        "def predicao(w, b, X):\n",
        "    '''\n",
        "    Prediz se o rótulo é 0 ou 1 usando os parâmetros de aprendizagem (w,b) da regressão logística\n",
        "    \n",
        "    Entrada:\n",
        "    w -- pesos, de tamanho (num_px * num_px * 3, 1)\n",
        "    b -- bias, um escalar\n",
        "    X -- dados de treinamentos de tamanho (num_px * num_px * 3, número de exemplos)\n",
        "    \n",
        "    Saída:\n",
        "    Y_pred -- um vetor contendo todas as predições (0/1) para os dados X\n",
        "    '''\n",
        "    \n",
        "    #ToDo : implemente a função\n",
        "\n",
        "    m = int(X.size/w.size)       # número de exemplos. Dica: acesso o shape de X e veja qual valor adequado\n",
        "    Y_pred = np.zeros((1,m))  # inicialize o vetor de predições. dica: ver  np.zeros()\n",
        "    print(str(Y_pred))\n",
        "    \n",
        "    # Calcule o vetor \"A\" da probabilidade de um gato estar na imagem\n",
        "    ### Início do código ### (≈ 1 lnha)\n",
        "    #ToDo : implemente o bloco\n",
        "    A = sigmoid(np.dot(np.transpose(w),X)+b)  # dica: mesma ideia da função propagacao(..)\n",
        "    A = sum(A)\n",
        "    print(str(A))\n",
        "    ### Fim do código ###\n",
        "    \n",
        "    # Converta as proobabilidades A[0,i] para predição p[0,i]\n",
        "    ### Início do código ### (≈ 1 a 4 linhas)\n",
        "    #ToDo : implemente o bloco    \n",
        "    # dica: considere, no vetor A, valores maiores ou iguais a 0.5 como classe 1 e menores que 0.5 como classe 0\n",
        "    # e coloque o resultado no vetor Y_pred\n",
        "\n",
        "    for i in range(m):\n",
        "      if A[i]>=0.5:\n",
        "        Y_pred[0,i] = 1\n",
        "     \n",
        "          \n",
        "    ### Fim do código ###       \n",
        "        \n",
        "    \n",
        "    assert(Y_pred.shape == (1, m))\n",
        "    \n",
        "    return Y_pred"
      ],
      "execution_count": 17,
      "outputs": []
    },
    {
      "cell_type": "code",
      "metadata": {
        "id": "6_cTOzX10QTZ",
        "colab": {
          "base_uri": "https://localhost:8080/",
          "height": 0
        },
        "outputId": "ef55f3ac-cdb6-429a-c8e4-8e4c1a3526a7"
      },
      "source": [
        "# Teste\n",
        "w = np.array([[0.1124579],[0.23106775]])\n",
        "b = -0.3\n",
        "X = np.array([[1.,-1.1,-3.2],[1.2,2.,0.1]])\n",
        "print (\"predições = \" + str(predicao(w, b, X)))"
      ],
      "execution_count": 18,
      "outputs": [
        {
          "output_type": "stream",
          "name": "stdout",
          "text": [
            "[[0. 0. 0.]]\n",
            "[0.52241976 0.50960677 0.34597965]\n",
            "predições = [[1. 1. 0.]]\n"
          ]
        }
      ]
    },
    {
      "cell_type": "markdown",
      "metadata": {
        "id": "sCPL8gWI0QTj"
      },
      "source": [
        "**Valor esperado**: \n",
        "\n",
        "<table style=\"width:30%\">\n",
        "    <tr>\n",
        "         <td>\n",
        "             **predições**\n",
        "         </td>\n",
        "          <td>\n",
        "            [[ 1.  1.  0.]]\n",
        "         </td>  \n",
        "   </tr>\n",
        "\n",
        "</table>"
      ]
    },
    {
      "cell_type": "markdown",
      "metadata": {
        "id": "cCtykznu0QTk"
      },
      "source": [
        "## 5 - Construa o modelo com as funções anteriores\n",
        "\n",
        "\n",
        "**Exercício:** Construa um modelo. Use a seguinte notação:\n",
        "\n",
        "     - Y_pred_teste para suas previsões no conjunto de testes\n",
        "     - Y_pred_treino para suas previsões no treino\n",
        "     - w, custos, grads para as saídas do algoritmo `gradiente()`."
      ]
    },
    {
      "cell_type": "code",
      "metadata": {
        "id": "1PYcuFlE0QTr"
      },
      "source": [
        "# Modelo\n",
        "\n",
        "def modelo(X_treino, Y_treino, X_teste, Y_teste, num_iter = 5000, learning_rate = 0.5, print_custo = False):\n",
        "    \"\"\"\n",
        "    Cria o modelo de regressão logística chamando as funções auxiliares\n",
        "    \n",
        "    Entradas:\n",
        "    X_treino -- conjunto de treinamento representado por uma matriz numpy da forma (num_px * num_px * 3, m_treino)\n",
        "    Y_treino -- rótulos de treinamento representados por uma matriz numpy (vetor) da forma (1, m_treino)\n",
        "    X_teste -- conjunto de teste representado por uma matriz numpy da forma (num_px * num_px * 3, m_teste)\n",
        "    Y_teste -- rótulos de teste representados por uma matriz numpy (vetor) da forma (1, m_teste)\n",
        "    num_iter -- hiperparâmetro que representa o número de iterações para otimizar os parâmetros\n",
        "    learning_rate -- hiperparâmetro que representa a taxa de aprendizado usada na regra de atualização do gradiente descendete\n",
        "    print_custo -- Defina como true para imprimir o custo a cada 100 iterações\n",
        "    \n",
        "    Saída:\n",
        "    d -- dicionário contendo informações sobre o modelo.\n",
        "    \"\"\"\n",
        "    \n",
        "    ### Início do código ###\n",
        "    #ToDo : implemente a função e complete os blocos abaixo\n",
        "    \n",
        "    # iniciliza os parâmetros (≈ 1 linha). Use sua funcao de inicialização e coloque o retorno em w e b\n",
        "    dim=X_treino.shape[0]\n",
        "    w, b = inicialize(dim)\n",
        "    #print(str(w))\n",
        "    # Gradiente descendente (≈ 1 linha). Use sua função  gradiente_descendente e preencha as variáveis de retorno\n",
        "    #grads,custo = propagacao(w, b, X_treino, Y_treino)\n",
        "\n",
        "    #w=grads[\"dw\"]\n",
        "    #b=grads[\"db\"]\n",
        "    \n",
        "    parametros, grads, custos = gradiente_descendente(w, b, X_treino, Y_treino, num_iter, learning_rate, print_custo)\n",
        "    \n",
        "    # Recupere os parâmetros w e b do dicionário \"parametros\"\n",
        "    w = parametros[\"w\"]\n",
        "    b = parametros[\"b\"]\n",
        "    #print(str(w.shape))\n",
        "    \n",
        "    # Compute predicoes para os conjuntos treino e teste (≈ 2 linhas). Use sua função predicao(..)\n",
        "    Y_pred_teste = predicao(w, b, X_teste)\n",
        "    Y_pred_treino = predicao(w, b, X_treino)\n",
        "\n",
        "    ### Fim do código ###\n",
        "\n",
        "    # Imprime erros do treino/teste \n",
        "    print(\"treino acurácia: {} %\".format(100 - np.mean(np.abs(Y_pred_treino - Y_treino)) * 100))\n",
        "    print(\"teste acurácia: {} %\".format(100 - np.mean(np.abs(Y_pred_teste - Y_teste)) * 100))\n",
        "\n",
        "    \n",
        "    d = {\"custos\": custos,\n",
        "         \"Y_pred_teste\": Y_pred_teste, \n",
        "         \"Y_pred_treino\" : Y_pred_treino, \n",
        "         \"w\" : w, \n",
        "         \"b\" : b,\n",
        "         \"learning_rate\" : learning_rate,\n",
        "         \"num_iter\": num_iter}\n",
        "    \n",
        "    return d"
      ],
      "execution_count": 19,
      "outputs": []
    },
    {
      "cell_type": "markdown",
      "metadata": {
        "id": "2MaWLuzK0QT2"
      },
      "source": [
        "## 6 - Execute o modelo\n",
        "\n",
        "Execute a célula a seguir para treinar seu modelo."
      ]
    },
    {
      "cell_type": "code",
      "metadata": {
        "id": "mPcMV_c90QVK",
        "colab": {
          "base_uri": "https://localhost:8080/",
          "height": 345
        },
        "outputId": "b4143b62-9130-4fd3-aa1d-1ddd2261d868"
      },
      "source": [
        "d = modelo(treino_x, treino_y, teste_x, teste_y, num_iter = 3000, learning_rate = 0.01, print_custo = True)"
      ],
      "execution_count": 20,
      "outputs": [
        {
          "output_type": "error",
          "ename": "ValueError",
          "evalue": "ignored",
          "traceback": [
            "\u001b[0;31m---------------------------------------------------------------------------\u001b[0m",
            "\u001b[0;31mValueError\u001b[0m                                Traceback (most recent call last)",
            "\u001b[0;32m<ipython-input-20-606b043c895b>\u001b[0m in \u001b[0;36m<module>\u001b[0;34m()\u001b[0m\n\u001b[0;32m----> 1\u001b[0;31m \u001b[0md\u001b[0m \u001b[0;34m=\u001b[0m \u001b[0mmodelo\u001b[0m\u001b[0;34m(\u001b[0m\u001b[0mtreino_x\u001b[0m\u001b[0;34m,\u001b[0m \u001b[0mtreino_y\u001b[0m\u001b[0;34m,\u001b[0m \u001b[0mteste_x\u001b[0m\u001b[0;34m,\u001b[0m \u001b[0mteste_y\u001b[0m\u001b[0;34m,\u001b[0m \u001b[0mnum_iter\u001b[0m \u001b[0;34m=\u001b[0m \u001b[0;36m3000\u001b[0m\u001b[0;34m,\u001b[0m \u001b[0mlearning_rate\u001b[0m \u001b[0;34m=\u001b[0m \u001b[0;36m0.01\u001b[0m\u001b[0;34m,\u001b[0m \u001b[0mprint_custo\u001b[0m \u001b[0;34m=\u001b[0m \u001b[0;32mTrue\u001b[0m\u001b[0;34m)\u001b[0m\u001b[0;34m\u001b[0m\u001b[0;34m\u001b[0m\u001b[0m\n\u001b[0m",
            "\u001b[0;32m<ipython-input-19-2bd87150ddf9>\u001b[0m in \u001b[0;36mmodelo\u001b[0;34m(X_treino, Y_treino, X_teste, Y_teste, num_iter, learning_rate, print_custo)\u001b[0m\n\u001b[1;32m     31\u001b[0m     \u001b[0;31m#b=grads[\"db\"]\u001b[0m\u001b[0;34m\u001b[0m\u001b[0;34m\u001b[0m\u001b[0;34m\u001b[0m\u001b[0m\n\u001b[1;32m     32\u001b[0m \u001b[0;34m\u001b[0m\u001b[0m\n\u001b[0;32m---> 33\u001b[0;31m     \u001b[0mparametros\u001b[0m\u001b[0;34m,\u001b[0m \u001b[0mgrads\u001b[0m\u001b[0;34m,\u001b[0m \u001b[0mcustos\u001b[0m \u001b[0;34m=\u001b[0m \u001b[0mgradiente_descendente\u001b[0m\u001b[0;34m(\u001b[0m\u001b[0mw\u001b[0m\u001b[0;34m,\u001b[0m \u001b[0mb\u001b[0m\u001b[0;34m,\u001b[0m \u001b[0mX_treino\u001b[0m\u001b[0;34m,\u001b[0m \u001b[0mY_treino\u001b[0m\u001b[0;34m,\u001b[0m \u001b[0mnum_iter\u001b[0m\u001b[0;34m,\u001b[0m \u001b[0mlearning_rate\u001b[0m\u001b[0;34m,\u001b[0m \u001b[0mprint_custo\u001b[0m\u001b[0;34m)\u001b[0m\u001b[0;34m\u001b[0m\u001b[0;34m\u001b[0m\u001b[0m\n\u001b[0m\u001b[1;32m     34\u001b[0m \u001b[0;34m\u001b[0m\u001b[0m\n\u001b[1;32m     35\u001b[0m     \u001b[0;31m# Recupere os parâmetros w e b do dicionário \"parametros\"\u001b[0m\u001b[0;34m\u001b[0m\u001b[0;34m\u001b[0m\u001b[0;34m\u001b[0m\u001b[0m\n",
            "\u001b[0;32m<ipython-input-15-03e6db8dcb16>\u001b[0m in \u001b[0;36mgradiente_descendente\u001b[0;34m(w, b, X, Y, num_iter, learning_rate, print_custo)\u001b[0m\n\u001b[1;32m     51\u001b[0m         \u001b[0;31m#dw = (sigmoid(grads)*(1-sigmoid(grads)))  # dica: fique atento ao tipo de dados de grads para acessar os índices de \"dw\" e \"db\"\u001b[0m\u001b[0;34m\u001b[0m\u001b[0;34m\u001b[0m\u001b[0;34m\u001b[0m\u001b[0m\n\u001b[1;32m     52\u001b[0m         \u001b[0;31m#db = (sigmoid(grads)*(1-sigmoid(grads)))\u001b[0m\u001b[0;34m\u001b[0m\u001b[0;34m\u001b[0m\u001b[0;34m\u001b[0m\u001b[0m\n\u001b[0;32m---> 53\u001b[0;31m         \u001b[0mdw\u001b[0m \u001b[0;34m=\u001b[0m \u001b[0;34m(\u001b[0m\u001b[0;36m1\u001b[0m\u001b[0;34m/\u001b[0m\u001b[0mm\u001b[0m \u001b[0;34m*\u001b[0m \u001b[0;34m(\u001b[0m\u001b[0mnp\u001b[0m\u001b[0;34m.\u001b[0m\u001b[0mdot\u001b[0m\u001b[0;34m(\u001b[0m\u001b[0mX\u001b[0m\u001b[0;34m,\u001b[0m \u001b[0mnp\u001b[0m\u001b[0;34m.\u001b[0m\u001b[0mtranspose\u001b[0m\u001b[0;34m(\u001b[0m\u001b[0mA\u001b[0m\u001b[0;34m-\u001b[0m\u001b[0mY\u001b[0m\u001b[0;34m)\u001b[0m\u001b[0;34m)\u001b[0m \u001b[0;34m)\u001b[0m\u001b[0;34m)\u001b[0m\u001b[0;34m\u001b[0m\u001b[0;34m\u001b[0m\u001b[0m\n\u001b[0m\u001b[1;32m     54\u001b[0m         \u001b[0mdb\u001b[0m \u001b[0;34m=\u001b[0m \u001b[0;36m1\u001b[0m\u001b[0;34m/\u001b[0m\u001b[0mm\u001b[0m \u001b[0;34m*\u001b[0m \u001b[0mnp\u001b[0m\u001b[0;34m.\u001b[0m\u001b[0msum\u001b[0m\u001b[0;34m(\u001b[0m\u001b[0mA\u001b[0m\u001b[0;34m-\u001b[0m\u001b[0mY\u001b[0m\u001b[0;34m)\u001b[0m\u001b[0;34m\u001b[0m\u001b[0;34m\u001b[0m\u001b[0m\n\u001b[1;32m     55\u001b[0m         \u001b[0;31m#print(str(dw))\u001b[0m\u001b[0;34m\u001b[0m\u001b[0;34m\u001b[0m\u001b[0;34m\u001b[0m\u001b[0m\n",
            "\u001b[0;32m<__array_function__ internals>\u001b[0m in \u001b[0;36mdot\u001b[0;34m(*args, **kwargs)\u001b[0m\n",
            "\u001b[0;31mValueError\u001b[0m: shapes (2568192,1) and (209,1) not aligned: 1 (dim 1) != 209 (dim 0)"
          ]
        }
      ]
    },
    {
      "cell_type": "markdown",
      "metadata": {
        "id": "70Wp8bN90QVk"
      },
      "source": [
        "**Valores esperados**: \n",
        "\n",
        "<table style=\"width:40%\"> \n",
        "\n",
        "   <tr>\n",
        "        <td> **Custo depois da iteração 0 **  </td> \n",
        "        <td> 0.693147 </td>\n",
        "    </tr>\n",
        "      <tr>\n",
        "        <td> <center> $\\vdots$ </center> </td> \n",
        "        <td> <center> $\\vdots$ </center> </td> \n",
        "    </tr>  \n",
        "    <tr>\n",
        "        <td> **Acurácia no treino**  </td> \n",
        "        <td> 100 % </td>\n",
        "    </tr>\n",
        "\n",
        "   <tr>\n",
        "        <td>**Acurácia no teste** </td> \n",
        "        <td> 68.0 % </td>\n",
        "    </tr>\n",
        "</table> \n"
      ]
    },
    {
      "cell_type": "markdown",
      "metadata": {
        "id": "eNMjo07M0QWj"
      },
      "source": [
        "**Responda** (0,5pt): A acurácia no treinamento é próxima de 100%. Seu modelo está funcionando e tem capacidade alta o suficiente para ajustar os dados de treinamento. A acurácia no teste é de 68%. Porque tanta diferença?"
      ]
    },
    {
      "cell_type": "code",
      "metadata": {
        "id": "w_3zCucZ0QWl",
        "colab": {
          "base_uri": "https://localhost:8080/",
          "height": 217
        },
        "outputId": "327c7009-88d1-407a-c176-8da9ae8120b1"
      },
      "source": [
        "# Exemplos das predições\n",
        "index = 11\n",
        "plt.imshow(teste_x[:,index].reshape((num_px, num_px, 3)))\n",
        "print (f'y = {classes[teste_y[0,index]].decode(\"utf-8\")}({teste_y[0,index]}), o modelo predizeu que é um \"{classes[int(d[\"Y_pred_teste\"][0][index])].decode(\"utf-8\")}\" picture.')"
      ],
      "execution_count": 21,
      "outputs": [
        {
          "output_type": "error",
          "ename": "IndexError",
          "evalue": "ignored",
          "traceback": [
            "\u001b[0;31m---------------------------------------------------------------------------\u001b[0m",
            "\u001b[0;31mIndexError\u001b[0m                                Traceback (most recent call last)",
            "\u001b[0;32m<ipython-input-21-5a7b6011c3fb>\u001b[0m in \u001b[0;36m<module>\u001b[0;34m()\u001b[0m\n\u001b[1;32m      1\u001b[0m \u001b[0;31m# Exemplos das predições\u001b[0m\u001b[0;34m\u001b[0m\u001b[0;34m\u001b[0m\u001b[0;34m\u001b[0m\u001b[0m\n\u001b[1;32m      2\u001b[0m \u001b[0mindex\u001b[0m \u001b[0;34m=\u001b[0m \u001b[0;36m11\u001b[0m\u001b[0;34m\u001b[0m\u001b[0;34m\u001b[0m\u001b[0m\n\u001b[0;32m----> 3\u001b[0;31m \u001b[0mplt\u001b[0m\u001b[0;34m.\u001b[0m\u001b[0mimshow\u001b[0m\u001b[0;34m(\u001b[0m\u001b[0mteste_x\u001b[0m\u001b[0;34m[\u001b[0m\u001b[0;34m:\u001b[0m\u001b[0;34m,\u001b[0m\u001b[0mindex\u001b[0m\u001b[0;34m]\u001b[0m\u001b[0;34m.\u001b[0m\u001b[0mreshape\u001b[0m\u001b[0;34m(\u001b[0m\u001b[0;34m(\u001b[0m\u001b[0mnum_px\u001b[0m\u001b[0;34m,\u001b[0m \u001b[0mnum_px\u001b[0m\u001b[0;34m,\u001b[0m \u001b[0;36m3\u001b[0m\u001b[0;34m)\u001b[0m\u001b[0;34m)\u001b[0m\u001b[0;34m)\u001b[0m\u001b[0;34m\u001b[0m\u001b[0;34m\u001b[0m\u001b[0m\n\u001b[0m\u001b[1;32m      4\u001b[0m \u001b[0mprint\u001b[0m \u001b[0;34m(\u001b[0m\u001b[0;34mf'y = {classes[teste_y[0,index]].decode(\"utf-8\")}({teste_y[0,index]}), o modelo predizeu que é um \"{classes[int(d[\"Y_pred_teste\"][0][index])].decode(\"utf-8\")}\" picture.'\u001b[0m\u001b[0;34m)\u001b[0m\u001b[0;34m\u001b[0m\u001b[0;34m\u001b[0m\u001b[0m\n",
            "\u001b[0;31mIndexError\u001b[0m: index 11 is out of bounds for axis 1 with size 1"
          ]
        }
      ]
    },
    {
      "cell_type": "markdown",
      "metadata": {
        "id": "3LbAimzY0QWw"
      },
      "source": [
        " Plota a função custo e os gradientes"
      ]
    },
    {
      "cell_type": "code",
      "metadata": {
        "id": "-nUco9vu0QWx",
        "colab": {
          "base_uri": "https://localhost:8080/",
          "height": 295
        },
        "outputId": "a1f1a525-5b4d-4a20-bd52-872c137ccc61"
      },
      "source": [
        "# Plot learning curve (with costs)\n",
        "custos = np.squeeze(d['custos'])\n",
        "plt.plot(custos)\n",
        "plt.ylabel('custo')\n",
        "plt.xlabel('iterações (por centenas)')\n",
        "plt.title(\"Taxa de aprendizagem =\" + str(d[\"learning_rate\"]))\n",
        "plt.show()"
      ],
      "execution_count": null,
      "outputs": [
        {
          "output_type": "display_data",
          "data": {
            "text/plain": [
              "<Figure size 432x288 with 1 Axes>"
            ],
            "image/png": "[encoded data removed]"
          },
          "metadata": {
            "needs_background": "light"
          }
        }
      ]
    },
    {
      "cell_type": "markdown",
      "metadata": {
        "id": "9Gv9fwPn0QXK"
      },
      "source": [
        "**Interpretação**:\n",
        "Você pode ver o custo diminuindo. Isso mostra que os parâmetros estão sendo aprendidos. No entanto, você pode treinar o modelo ainda mais no conjunto de treinamento. Tente aumentar o número de iterações e execute novamente. O que acontece?\n",
        "\n",
        "ToDo : discorra sobre a pergunta."
      ]
    },
    {
      "cell_type": "markdown",
      "metadata": {
        "id": "ErmJ3tl70QXO"
      },
      "source": [
        "## 6 - Mais análises  ##\n"
      ]
    },
    {
      "cell_type": "markdown",
      "metadata": {
        "id": "dgGdULUM0QXP"
      },
      "source": [
        "#### Escolha da Taxa de aprendizagem ####\n",
        "\n",
        "**Lembrete**:\n",
        "O algoritmo da descida do gradiente, depende da escolha da taxa de aprendizado. A taxa de aprendizado $ \\alpha $ determina a rapidez com que atualizamos os parâmetros. Se a taxa de aprendizado for muito alta, podemos \"ultrapassar\" o valor ideal. Da mesma forma, se for muito pequeno, precisaremos de muitas iterações para convergir para os melhores valores. É por isso que é crucial usar uma taxa de aprendizado bem ajustada.\n",
        "\n",
        "Vamos comparar a curva de aprendizado do modelo com várias opções de taxas de aprendizado. Execute a célula abaixo. "
      ]
    },
    {
      "cell_type": "code",
      "metadata": {
        "id": "sQFnTcma0QXT",
        "colab": {
          "base_uri": "https://localhost:8080/",
          "height": 593
        },
        "outputId": "b52e9795-c621-4d8a-92f1-bceb8d713d02"
      },
      "source": [
        "learning_rates = [0.025, 0.0025, 0.0001]\n",
        "modelos = {}\n",
        "for i in learning_rates:\n",
        "    print (\"learning rate is: \" + str(i))\n",
        "    modelos[str(i)] = modelo(treino_x, treino_y, teste_x, teste_y, num_iter = 2500, learning_rate = i, print_custo = False)\n",
        "    print ('\\n' + \"-------------------------------------------------------\" + '\\n')\n",
        "\n",
        "for i in learning_rates:\n",
        "    plt.plot(np.squeeze(modelos[str(i)][\"custos\"]), label= str(modelos[str(i)][\"learning_rate\"]))\n",
        "\n",
        "plt.ylabel('custo')\n",
        "plt.xlabel('iterações (por centenas)')\n",
        "\n",
        "legend = plt.legend(loc='upper center', shadow=True)\n",
        "frame = legend.get_frame()\n",
        "frame.set_facecolor('0.90')\n",
        "plt.show()"
      ],
      "execution_count": null,
      "outputs": [
        {
          "output_type": "stream",
          "name": "stdout",
          "text": [
            "learning rate is: 0.025\n",
            "treino acurácia: 100.0 %\n",
            "teste acurácia: 68.0 %\n",
            "\n",
            "-------------------------------------------------------\n",
            "\n",
            "learning rate is: 0.0025\n",
            "treino acurácia: 97.12918660287082 %\n",
            "teste acurácia: 70.0 %\n",
            "\n",
            "-------------------------------------------------------\n",
            "\n",
            "learning rate is: 0.0001\n",
            "treino acurácia: 72.2488038277512 %\n",
            "teste acurácia: 42.00000000000001 %\n",
            "\n",
            "-------------------------------------------------------\n",
            "\n"
          ]
        },
        {
          "output_type": "display_data",
          "data": {
            "text/plain": [
              "<Figure size 432x288 with 1 Axes>"
            ],
            "image/png": "[encoded data removed]"
          },
          "metadata": {
            "needs_background": "light"
          }
        }
      ]
    },
    {
      "cell_type": "markdown",
      "metadata": {
        "id": "4cFE8hK20QXc"
      },
      "source": [
        "**Interpretação**:\n",
        "- Diferentes taxas de aprendizado fornecem custos diferentes e, portanto, resultados de previsões diferentes.\n",
        "- Se a taxa de aprendizado for muito alta (0,01), o custo poderá oscilar para cima e para baixo. Pode até divergir (embora, neste exemplo, o uso de 0,01 ainda termine com um bom valor para o custo).\n",
        "- Um custo menor não significa um modelo melhor. Pode ocorrer o `overfitting`. Isso acontece quando a precisão do treinamento é muito maior que a precisão do teste.\n"
      ]
    },
    {
      "cell_type": "markdown",
      "metadata": {
        "id": "jZ-oozHTM6CZ"
      },
      "source": [
        "# **Atividade Complementar 1**\n",
        "Use seu modelo de regressão logistica para o seguinte dataset.\n",
        "\n",
        "Conjunto de dados de 2 classes com entradas X e rótulos (Y=0, vermelho) e (Y=1, azul). Seu objetivo é verificar se seu classificador se ajusta a esses dados. Em outras palavras, o classificador defina as regiões de vermelha ou azul."
      ]
    },
    {
      "cell_type": "code",
      "metadata": {
        "id": "BOk8QxIgOpQm"
      },
      "source": [
        "def load_planar_dataset():\n",
        "    np.random.seed(1)\n",
        "    m = 400 # number of examples\n",
        "    N = int(m/2) # number of points per class\n",
        "    D = 2 # dimensionality\n",
        "    X = np.zeros((m,D)) # data matrix where each row is a single example\n",
        "    Y = np.zeros((m,1), dtype='uint8') # labels vector (0 for red, 1 for blue)\n",
        "    a = 4 # maximum ray of the flower\n",
        "\n",
        "    for j in range(2):\n",
        "        ix = range(N*j,N*(j+1))\n",
        "        t = np.linspace(j*3.12,(j+1)*3.12,N) + np.random.randn(N)*0.2 # theta\n",
        "        r = a*np.sin(4*t) + np.random.randn(N)*0.2 # radius\n",
        "        X[ix] = np.c_[r*np.sin(t), r*np.cos(t)]\n",
        "        Y[ix] = j\n",
        "        \n",
        "    X = X.T\n",
        "    Y = Y.T\n",
        "\n",
        "    return X, Y"
      ],
      "execution_count": null,
      "outputs": []
    },
    {
      "cell_type": "code",
      "metadata": {
        "id": "MB39bT0qPRXg"
      },
      "source": [
        "X, Y = load_planar_dataset()"
      ],
      "execution_count": null,
      "outputs": []
    },
    {
      "cell_type": "code",
      "metadata": {
        "id": "nJqVmwGePWfQ",
        "colab": {
          "base_uri": "https://localhost:8080/",
          "height": 265
        },
        "outputId": "f72cc306-cca3-416c-b76e-9c43ea6a99aa"
      },
      "source": [
        "# Visualize os dados\n",
        "plt.scatter(X[0, :], X[1, :], c=Y, s=40, cmap=plt.cm.Spectral);"
      ],
      "execution_count": null,
      "outputs": [
        {
          "output_type": "display_data",
          "data": {
            "text/plain": [
              "<Figure size 432x288 with 1 Axes>"
            ],
            "image/png": "[encoded data removed]"
          },
          "metadata": {
            "needs_background": "light"
          }
        }
      ]
    },
    {
      "cell_type": "code",
      "metadata": {
        "id": "CZ9EpJQsP3zA"
      },
      "source": [
        "# ToDo: plote a fronteira de decisão do seu modelo!\n"
      ],
      "execution_count": null,
      "outputs": []
    },
    {
      "cell_type": "markdown",
      "metadata": {
        "id": "v3UWwbVPKmuz"
      },
      "source": [
        "# **Atividade Complementar 2**\n",
        "\n",
        "Repita o problema de classificação de gatos usando um objeto da biblioteca [scikit-learn](https://scikit-learn.org/stable/index.html) que implementa o classificador de vizinhos mais próximos (Nearest Neighbors Classification - [KNN](https://scikit-learn.org/stable/modules/generated/sklearn.neighbors.KNeighborsClassifier.html#sklearn.neighbors.KNeighborsClassifier)). O KNN é um classificador baseado em instâncias e o parâmetro K define o número de vizinhos a se considerar durante a classificação. Ajuste este parâmetro de forma empírica e compare com os resultados obtidos com a regressão logística."
      ]
    },
    {
      "cell_type": "code",
      "metadata": {
        "id": "dv1AeHphLYqB"
      },
      "source": [
        "from sklearn import neighbors\n",
        "\n",
        "#ToDo : repita usando-se o KNN do sklearn"
      ],
      "execution_count": null,
      "outputs": []
    }
  ]
}